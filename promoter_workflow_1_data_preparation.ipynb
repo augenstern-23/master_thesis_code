{
 "cells": [
  {
   "cell_type": "markdown",
   "id": "6004493c-9983-4983-9979-2935e6da43d0",
   "metadata": {},
   "source": [
    "# 1. Dataset Preparation\n",
    "\n",
    "Create files with following properties for CAGEr \n",
    "\n",
    "    - four columns: chromosome, tss, strand, tag count\n",
    "    - no header\n",
    "    - tab separated\n",
    "    - File extension: .ctss\n"
   ]
  },
  {
   "cell_type": "code",
   "execution_count": 1,
   "id": "0ea7913d-d46d-4ce8-af50-9d2521032f7e",
   "metadata": {
    "scrolled": true,
    "tags": []
   },
   "outputs": [
    {
     "name": "stderr",
     "output_type": "stream",
     "text": [
      "Installing package into ‘/home/huebnerp/R/x86_64-pc-linux-gnu-library/3.6’\n",
      "(as ‘lib’ is unspecified)\n",
      "\n",
      "also installing the dependency ‘vctrs’\n",
      "\n",
      "\n",
      "Warning message in install.packages(\"dplyr\"):\n",
      "“installation of package ‘vctrs’ had non-zero exit status”\n",
      "Warning message in install.packages(\"dplyr\"):\n",
      "“installation of package ‘dplyr’ had non-zero exit status”\n",
      "\n",
      "Attaching package: ‘dplyr’\n",
      "\n",
      "\n",
      "The following objects are masked from ‘package:stats’:\n",
      "\n",
      "    filter, lag\n",
      "\n",
      "\n",
      "The following objects are masked from ‘package:base’:\n",
      "\n",
      "    intersect, setdiff, setequal, union\n",
      "\n",
      "\n",
      "Bioconductor version 3.10 (BiocManager 1.30.10), ?BiocManager::install for help\n",
      "\n",
      "Bioconductor version '3.10' is out-of-date; the current release version '3.18'\n",
      "  is available with R version '4.3'; see https://bioconductor.org/install\n",
      "\n",
      "Bioconductor version 3.10 (BiocManager 1.30.10), R 3.6.3 (2020-02-29)\n",
      "\n",
      "Installing package(s) 'FANTOM3and4CAGE'\n",
      "\n",
      "Installation path not writeable, unable to update packages: BBmisc, BH,\n",
      "  BatchJobs, BiocManager, Boruta, C50, Cairo, Ckmeans.1d.dp, Cubist, DBI,\n",
      "  DEoptimR, DT, ExomeDepth, FNN, Formula, GA, GGally, GSA, GeneNet, GetoptLong,\n",
      "  HMM, HardyWeinberg, Hmisc, KernSmooth, LSD, Lahman, Matrix, MatrixModels,\n",
      "  NMF, PerfMeas, R.cache, R.matlab, R.methodsS3, R.oo, R.utils, R2HTML, R6,\n",
      "  RApiSerialize, RCircos, RColorBrewer, RCurl, RJSONIO, RMariaDB, RMySQL,\n",
      "  RPostgreSQL, RPostgres, RRF, RSQLite, RSpectra, RWeka, Rcpp, RcppAnnoy,\n",
      "  RcppArmadillo, RcppEigen, RcppHNSW, RcppNumerical, RcppParallel, Rdpack,\n",
      "  RhpcBLASctl, Rtsne, SCORPIUS, SQUAREM, SparseM, SuppDists, TFMPvalue,\n",
      "  TH.data, TSP, VennDiagram, WGCNA, acepack, ade4, akima, amap, aod, ape, arm,\n",
      "  askpass, babelwhale, backports, base64, batchtools, bayesm, bbmle, bdsmatrix,\n",
      "  beanplot, beeswarm, bgmm, bibtex, bigmemory, bigmemory.sri, bit, bit64,\n",
      "  bitops, blob, blockmodeling, bookdown, boot, bpca, brew, brglm, c060,\n",
      "  caTools, calibrate, callr, car, carData, caret, carrier, checkmate, chron,\n",
      "  circlize, class, classInt, clipr, clue, cluster, coda, codetools, coin,\n",
      "  colorspace, commonmark, compositions, corpcor, corrgram, corrplot, covr,\n",
      "  cowplot, crayon, crosstalk, curl, cyclocomp, dbplyr, deldir, dendextend,\n",
      "  densityClust, desc, devtools, dichromat, digest, diptest, dismo, doMC,\n",
      "  doParallel, doRNG, doSNOW, docopt, dostats, dotCall64, dqrng, dtw, dyndimred,\n",
      "  dynparam, dynutils, dynwrap, e1071, earth, ellipsis, emdbook, energy,\n",
      "  entropy, europepmc, evaluate, evd, exactRankTests, expm, fANCOVA, farver,\n",
      "  fastcluster, fastmap, fastmatch, fdrtool, fields, filehash, fitdistrplus,\n",
      "  flexmix, forcats, foreach, formatR, fpc, fs, furrr, future, future.apply,\n",
      "  gRbase, gbm, gdata, generics, genetics, getPass, getopt, ggbeeswarm, ggforce,\n",
      "  ggplotify, ggpubr, ggraph, ggrepel, ggridges, ggsci, ggsignif, gh, gistr,\n",
      "  glmnet, glmpca, globals, glue, gmodels, gmp, gnm, gower, gplots,\n",
      "  graphlayouts, gridGraphics, gridSVG, gtable, h2o, hash, haven, hdf5r, hdi,\n",
      "  hdrcde, hexbin, highr, hms, htmltools, htmlwidgets, httpuv, hwriter, ica,\n",
      "  idr, igraph, infotheo, inline, intervals, inum, ipred, irlba, isoband,\n",
      "  iterators, jpeg, kSamples, kernlab, knitr, ks, labeling, lars, later,\n",
      "  latticeExtra, lava, leiden, leidenbase, lhs, libcoin, linprog, lintr,\n",
      "  listenv, lme4, lmtest, longitudinal, lpSolve, lpSolveAPI, magrittr,\n",
      "  manipulateWidget, mapproj, maps, maptree, markdown, matrixStats, mclust, mda,\n",
      "  memoise, metap, mgcv, mhsmm, mice, microbenchmark, mime, minqa, misc3d,\n",
      "  mlegp, mnormt, modelr, moments, multcomp, multicool, mutoss, mvtnorm,\n",
      "  nleqslv, nlme, nloptr, nnet, nor1mix, openssl, openxlsx, optparse, outliers,\n",
      "  pROC, party, partykit, patchwork, pbapply, pbmcapply, pcalg, pdist,\n",
      "  penalizedSVM, peperr, pillar, pixmap, pkgbuild, pkgload, pkgmaker, plotly,\n",
      "  plotmo, plotrix, pls, plyr, png, polspline, polyclip, polynom, prabclus,\n",
      "  pracma, prettyunits, princurve, prodlim, profileModel, progress, promises,\n",
      "  proxy, proxyC, pryr, ps, pscl, qap, qqman, qtl, quantreg, qvcalc, rFerns,\n",
      "  rJava, ranger, rappdirs, raster, rcmdcheck, readr, recipes, relaimpo,\n",
      "  rematch, reprex, reshape, reticulate, rex, rgl, rio, rje, rlecuyer, rlist,\n",
      "  rmarkdown, rms, rngtools, robustbase, roxygen2, rpart, rprojroot, rsample,\n",
      "  rstatix, rvcheck, rversions, rvest, sandwich, scatterplot3d, sctransform,\n",
      "  sda, segmented, sendmailR, seqinr, seriation, sessioninfo, setRNG, sf,\n",
      "  sfsmisc, shape, shiny, shinyWidgets, shinyjs, sitmo, slam, sm, sn, snow,\n",
      "  snowfall, softImpute, sourcetools, sp, spData, spam, sparsesvd, spatial,\n",
      "  spdep, speedglm, splancs, statmod, stringdist, strucchange, survey, survival,\n",
      "  svMisc, svglite, sys, tables, tensorA, testthat, tgp, tibble, tidygraph,\n",
      "  tidyr, tidyselect, tidyverse, timeDate, tinytex, triebeard, truncnorm, tsne,\n",
      "  tweenr, units, usethis, uuid, uwot, vcd, venneuler, vipor, viridis,\n",
      "  viridisLite, waveslim, webshot, whisker, xfun, xlsx, xmlparsedata, yaml, zip,\n",
      "  zipfR, zoo\n",
      "\n",
      "Old packages: 'broom', 'cli', 'cpp11', 'data.table', 'dplyr', 'fansi',\n",
      "  'gargle', 'ggplot2', 'googledrive', 'googlesheets4', 'gtools', 'httr',\n",
      "  'jsonlite', 'lifecycle', 'lubridate', 'pbdZMQ', 'processx', 'purrr',\n",
      "  'readxl', 'remotes', 'rlang', 'rstudioapi', 'scales', 'stringi', 'stringr',\n",
      "  'systemfonts', 'textshaping', 'tzdb', 'utf8', 'vctrs', 'withr', 'xml2'\n",
      "\n"
     ]
    }
   ],
   "source": [
    "source(\"functions_promoter_data_preparation.r\")"
   ]
  },
  {
   "cell_type": "code",
   "execution_count": 2,
   "id": "c3887122-bcab-4903-8897-ac6de7aed878",
   "metadata": {},
   "outputs": [],
   "source": [
    "data(FANTOMtissueCAGEhuman)\n",
    "dataset <- FANTOMtissueCAGEhuman"
   ]
  },
  {
   "cell_type": "code",
   "execution_count": 4,
   "id": "fc162765",
   "metadata": {},
   "outputs": [
    {
     "data": {
      "text/html": [
       "<style>\n",
       ".list-inline {list-style: none; margin:0; padding: 0}\n",
       ".list-inline>li {display: inline-block}\n",
       ".list-inline>li:not(:last-child)::after {content: \"\\00b7\"; padding: 0 .5ex}\n",
       "</style>\n",
       "<ol class=list-inline><li>'cerebrum'</li><li>'renal_artery'</li><li>'ureter'</li><li>'urinary_bladder'</li><li>'kidney'</li><li>'small_intestine'</li><li>'rectum'</li><li>'cecum'</li><li>'liver'</li><li>'large_intestine'</li><li>'prostate_gland'</li><li>'mammary_gland'</li><li>'epididymis'</li><li>'skin'</li><li>'adipose'</li><li>'pancreas'</li><li>'thymus'</li><li>'undefined'</li><li>'blood'</li><li>'lung'</li><li>'adrenal_gland'</li><li>'colon'</li><li>'brain'</li><li>'cerebellum'</li><li>'testis'</li><li>'embryo'</li><li>'bone_marrow'</li><li>'heart'</li><li>'muscle'</li><li>'frontal_lobe'</li><li>'occipital_lobe'</li><li>'parietal_lobe'</li><li>'spleen'</li><li>'breast'</li></ol>\n"
      ],
      "text/latex": [
       "\\begin{enumerate*}\n",
       "\\item 'cerebrum'\n",
       "\\item 'renal\\_artery'\n",
       "\\item 'ureter'\n",
       "\\item 'urinary\\_bladder'\n",
       "\\item 'kidney'\n",
       "\\item 'small\\_intestine'\n",
       "\\item 'rectum'\n",
       "\\item 'cecum'\n",
       "\\item 'liver'\n",
       "\\item 'large\\_intestine'\n",
       "\\item 'prostate\\_gland'\n",
       "\\item 'mammary\\_gland'\n",
       "\\item 'epididymis'\n",
       "\\item 'skin'\n",
       "\\item 'adipose'\n",
       "\\item 'pancreas'\n",
       "\\item 'thymus'\n",
       "\\item 'undefined'\n",
       "\\item 'blood'\n",
       "\\item 'lung'\n",
       "\\item 'adrenal\\_gland'\n",
       "\\item 'colon'\n",
       "\\item 'brain'\n",
       "\\item 'cerebellum'\n",
       "\\item 'testis'\n",
       "\\item 'embryo'\n",
       "\\item 'bone\\_marrow'\n",
       "\\item 'heart'\n",
       "\\item 'muscle'\n",
       "\\item 'frontal\\_lobe'\n",
       "\\item 'occipital\\_lobe'\n",
       "\\item 'parietal\\_lobe'\n",
       "\\item 'spleen'\n",
       "\\item 'breast'\n",
       "\\end{enumerate*}\n"
      ],
      "text/markdown": [
       "1. 'cerebrum'\n",
       "2. 'renal_artery'\n",
       "3. 'ureter'\n",
       "4. 'urinary_bladder'\n",
       "5. 'kidney'\n",
       "6. 'small_intestine'\n",
       "7. 'rectum'\n",
       "8. 'cecum'\n",
       "9. 'liver'\n",
       "10. 'large_intestine'\n",
       "11. 'prostate_gland'\n",
       "12. 'mammary_gland'\n",
       "13. 'epididymis'\n",
       "14. 'skin'\n",
       "15. 'adipose'\n",
       "16. 'pancreas'\n",
       "17. 'thymus'\n",
       "18. 'undefined'\n",
       "19. 'blood'\n",
       "20. 'lung'\n",
       "21. 'adrenal_gland'\n",
       "22. 'colon'\n",
       "23. 'brain'\n",
       "24. 'cerebellum'\n",
       "25. 'testis'\n",
       "26. 'embryo'\n",
       "27. 'bone_marrow'\n",
       "28. 'heart'\n",
       "29. 'muscle'\n",
       "30. 'frontal_lobe'\n",
       "31. 'occipital_lobe'\n",
       "32. 'parietal_lobe'\n",
       "33. 'spleen'\n",
       "34. 'breast'\n",
       "\n",
       "\n"
      ],
      "text/plain": [
       " [1] \"cerebrum\"        \"renal_artery\"    \"ureter\"          \"urinary_bladder\"\n",
       " [5] \"kidney\"          \"small_intestine\" \"rectum\"          \"cecum\"          \n",
       " [9] \"liver\"           \"large_intestine\" \"prostate_gland\"  \"mammary_gland\"  \n",
       "[13] \"epididymis\"      \"skin\"            \"adipose\"         \"pancreas\"       \n",
       "[17] \"thymus\"          \"undefined\"       \"blood\"           \"lung\"           \n",
       "[21] \"adrenal_gland\"   \"colon\"           \"brain\"           \"cerebellum\"     \n",
       "[25] \"testis\"          \"embryo\"          \"bone_marrow\"     \"heart\"          \n",
       "[29] \"muscle\"          \"frontal_lobe\"    \"occipital_lobe\"  \"parietal_lobe\"  \n",
       "[33] \"spleen\"          \"breast\"         "
      ]
     },
     "metadata": {},
     "output_type": "display_data"
    }
   ],
   "source": [
    "names(dataset)"
   ]
  },
  {
   "cell_type": "code",
   "execution_count": 7,
   "id": "1121c830-95cd-4b14-a23b-9953e5a8b8b0",
   "metadata": {
    "jupyter": {
     "source_hidden": true
    }
   },
   "outputs": [
    {
     "data": {
      "text/html": [
       "140732"
      ],
      "text/latex": [
       "140732"
      ],
      "text/markdown": [
       "140732"
      ],
      "text/plain": [
       "[1] 140732"
      ]
     },
     "metadata": {},
     "output_type": "display_data"
    }
   ],
   "source": [
    "sum(dataset[[\"heart\"]]$heart)"
   ]
  },
  {
   "cell_type": "code",
   "execution_count": null,
   "id": "d3bbbc02-0ff5-4a0a-91ea-1d0dd3c3cdc8",
   "metadata": {
    "scrolled": true,
    "tags": []
   },
   "outputs": [
    {
     "name": "stdout",
     "output_type": "stream",
     "text": [
      "[1] \"cerebrum\"\n",
      "[1] \"renal_artery\"\n",
      "[1] \"ureter\"\n",
      "[1] \"urinary_bladder\"\n",
      "[1] \"malignancy\" \"kidney\"    \n",
      "[1] \"small_intestine\"\n",
      "[1] \"malignancy\" \"rectum\"    \n",
      "[1] \"malignancy\" \"cecum\"     \n",
      "[1] \"liver\"          \"HB-6065_Hep_G2\" \"malignancy\"    \n",
      "[1] \"large_intestine\" \"malignancy\"     \n",
      "[1] \"prostate_gland\"\n",
      "[1] \"mammary_gland\"\n",
      "[1] \"epididymis\"\n",
      "[1] \"CRL-2429_CCD-1112Sk\"             \"HS181_p52_+_CRL-2429_CCD-1112Sk\"\n",
      "[1] \"adipose\"    \"DHT_9days\"  \"TNFa_2days\" \"DHT_8days\" \n",
      "[1] \"malignancy\"\n",
      "[1] \"thymus\"\n",
      "[1] \"untreated_cells\"        \"VitD3_96_hours\"         \"retinoic_acid_96_hours\"\n",
      " [1] \"RCB-0806_Jurkat\"     \"hu.CD14+\"            \"control\"            \n",
      " [4] \"THP-1_PMA_0hr_rep1\"  \"THP-1_PMA_1hr_rep1\"  \"THP-1_PMA_4hr_rep1\" \n",
      " [7] \"THP-1_PMA_12hr_rep1\" \"THP-1_PMA_24hr_rep1\" \"THP-1_PMA_96hr_rep1\"\n",
      "[10] \"THP-1_PMA_0hr_rep2\"  \"THP-1_PMA_1hr_rep2\"  \"THP-1_PMA_4hr_rep2\" \n",
      "[13] \"THP-1_PMA_12hr_rep2\" \"THP-1_PMA_24hr_rep2\" \"THP-1_PMA_96hr_rep2\"\n",
      "[16] \"THP-1_PMA_0hr_rep3\"  \"THP-1_PMA_1hr_rep3\"  \"THP-1_PMA_4hr_rep3\" \n",
      "[19] \"THP-1_PMA_12hr_rep3\" \"THP-1_PMA_24hr_rep3\" \"THP-1_PMA_96hr_rep3\"\n",
      "[22] \"THP-1_0hr\"           \"THP-1_1hr\"           \"THP-1_2hr\"          \n",
      "[25] \"THP-1_3hr\"           \"THP-1_4hr\"           \"THP-1_8hr\"          \n",
      "[28] \"THP-1_12hr\"          \"THP-1_18hr\"          \"THP-1_24hr\"         \n",
      "[1] \"RCB-0702_WI-38\"  \"RCB-0098_A549\"   \"RCB-0465_Lu-130\" \"lung\"           \n",
      "[1] \"RCB-0687_KP-N-NS\" \"RCB-0487_CHP-134\" \"adrenal_gland\"   \n",
      "[1] \"RCB-0778_CW-2\"     \"RCB-1193_COLO-320\" \"colon\"            \n",
      "[1] \"brain\"\n",
      "[1] \"cerebellum\"\n",
      "[1] \"testis\"\n",
      "[1] \"embryo\"\n",
      "[1] \"bone_marrow\"\n",
      "[1] \"heart\"\n",
      "[1] \"muscle\"\n",
      "[1] \"frontal_lobe\"\n",
      "[1] \"occipital_lobe\"\n",
      "[1] \"parietal_lobe\"\n",
      "[1] \"spleen\"\n",
      "[1] \"breast\"\n"
     ]
    }
   ],
   "source": [
    "# save_tissue_dfs\n",
    "new_dfs <- save_tissue_dfs(dataset)\n",
    "# print the list of new dataframes\n",
    "new_dfs"
   ]
  }
 ],
 "metadata": {
  "kernelspec": {
   "display_name": " R 3.6.3",
   "language": "R",
   "name": "ir363"
  },
  "language_info": {
   "codemirror_mode": "r",
   "file_extension": ".r",
   "mimetype": "text/x-r-source",
   "name": "R",
   "pygments_lexer": "r",
   "version": "3.6.3"
  }
 },
 "nbformat": 4,
 "nbformat_minor": 5
}
