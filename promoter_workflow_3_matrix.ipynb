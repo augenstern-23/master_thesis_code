{
 "cells": [
  {
   "cell_type": "markdown",
   "id": "c2a70a98-7164-4f7f-8fd1-c5fd641cb9f7",
   "metadata": {},
   "source": [
    "# 3. Create Matrix Tissues / TFs"
   ]
  },
  {
   "cell_type": "code",
   "execution_count": 56,
   "id": "2c5a4733-d239-4351-8139-f2ecfbac7ac3",
   "metadata": {
    "collapsed": true,
    "jupyter": {
     "outputs_hidden": true
    }
   },
   "outputs": [
    {
     "name": "stderr",
     "output_type": "stream",
     "text": [
      "Installing package into ‘/home/huebnerp/R/x86_64-pc-linux-gnu-library/4.2’\n",
      "(as ‘lib’ is unspecified)\n",
      "\n",
      "Warning message in install.packages(\"dplyr\"):\n",
      "“installation of package ‘dplyr’ had non-zero exit status”\n",
      "'getOption(\"repos\")' replaces Bioconductor standard repositories, see\n",
      "'?repositories' for details\n",
      "\n",
      "replacement repositories:\n",
      "    CRAN: https://cran.r-project.org\n",
      "\n",
      "\n",
      "Bioconductor version 3.15 (BiocManager 1.30.18), R 4.2.1 (2022-06-23)\n",
      "\n",
      "Warning message:\n",
      "“package(s) not installed when version(s) same as current; use `force = TRUE` to\n",
      "  re-install: 'FANTOM3and4CAGE'”\n",
      "Installation paths not writeable, unable to update packages\n",
      "  path: /pkg/R-4.2.1-0/lib/R/library\n",
      "  packages:\n",
      "    AnnotationForge, BBmisc, BH, BiocManager, BiocParallel, Biostrings, Boruta,\n",
      "    C50, Cairo, ChIPseeker, Ckmeans.1d.dp, ComplexHeatmap, Cubist, DEoptimR,\n",
      "    DOSE, DT, DelayedMatrixStats, ExomeDepth, FNN, Formula, GGally,\n",
      "    GenomeInfoDb, GenomicFeatures, HDF5Array, Hmisc, IRanges, KernSmooth,\n",
      "    Lahman, MASS, Matrix, MatrixModels, NMF, R.matlab, R.utils, RCurl, RJSONIO,\n",
      "    RMariaDB, RMySQL, RPostgreSQL, RPostgres, RSQLite, RWeka, Rcpp, RcppAnnoy,\n",
      "    RcppArmadillo, RcppEigen, RcppHNSW, RcppNumerical, RcppParallel, RcppTOML,\n",
      "    Rdpack, ResidualMatrix, RhpcBLASctl, SCORPIUS, ScaledMatrix, Seurat,\n",
      "    SeuratObject, SingleCellExperiment, TFMPvalue, TH.data, TSP, VGAM, WGCNA,\n",
      "    XML, acepack, ade4, ape, aplot, arrow, askpass, babelwhale, base64, bayesm,\n",
      "    bigmemory.sri, bit, blob, bookdown, boot, bpca, brew, broom, bslib, c060,\n",
      "    cachem, callr, car, caret, carrier, checkmate, chron, cicero, class, cli,\n",
      "    clue, cluster, codetools, coin, colorspace, commonmark, compositions,\n",
      "    cpp11, crayon, credentials, crosstalk, crul, curl, cyclocomp, data.table,\n",
      "    dbplyr, deldir, dendextend, desc, devtools, digest, diptest, doRNG,\n",
      "    dotCall64, downlit, dqrng, dtplyr, dtw, dynutils, dynwrap, e1071, earth,\n",
      "    edgeR, emdbook, energy, enrichplot, evaluate, fastICA, fastmap, fastmatch,\n",
      "    fields, filehash, fitdistrplus, flexmix, fontawesome, forcats, foreign,\n",
      "    formatR, fpc, fs, future, future.apply, gRbase, gargle, gbm, gdata,\n",
      "    geometry, gert, getopt, ggbeeswarm, ggforce, ggfun, ggplotify, ggpubr,\n",
      "    ggraph, ggrepel, ggridges, ggsci, ggsignif, ggtree, gh, git2r, gitcreds,\n",
      "    glmnet, globals, gmp, gnm, googledrive, googlesheets4, gower, graphlayouts,\n",
      "    gridSVG, gsl, gtable, gtools, h2o, haplo.stats, hardhat, harmony, hash,\n",
      "    haven, hdf5r, hexbin, highr, hms, htmlTable, htmltools, htmlwidgets,\n",
      "    httpuv, httr, igraph, interp, intervals, inum, ipred, irlba, isoband, jpeg,\n",
      "    jsonlite, kSamples, kernlab, knitr, ks, labeling, later, lattice, lava,\n",
      "    leiden, leidenbase, lhs, libcoin, limma, lintr, listenv, lme4, locfit,\n",
      "    lpSolve, lpSolveAPI, lubridate, magic, mapproj, maps, markdown,\n",
      "    matrixStats, mclust, mda, meta, metafor, mgcv, mhsmm, mice, microbenchmark,\n",
      "    minqa, mixtools, modelr, multcomp, mvtnorm, nleqslv, nlme, nnet, nor1mix,\n",
      "    openssl, pROC, parallelly, party, partykit, patchwork, pbapply, pbdZMQ,\n",
      "    pbkrtest, pcalg, penalizedSVM, peperr, pillar, pkgbuild, pkgdown, pkgload,\n",
      "    pkgmaker, plotrix, pls, plyr, png, polspline, polyclip, prabclus, pracma,\n",
      "    prettyunits, processx, prodlim, profvis, progressr, promises, proxyC, pryr,\n",
      "    ps, purrr, qqman, qtl, quantreg, qvcalc, ragg, ranger, rbibutils, readxl,\n",
      "    recipes, relaimpo, rematch, repr, reprex, reticulate, rgl, rlecuyer,\n",
      "    rmarkdown, rms, robustbase, roxygen2, rpart, rprojroot, rstatix,\n",
      "    rstudioapi, rversions, rvest, sass, scales, scattermore, scatterpie,\n",
      "    scatterplot3d, sctransform, scuttle, segmented, sendmailR, seqinr,\n",
      "    seriation, sfsmisc, shiny, snowfall, sourcetools, sp, spam, sparsesvd,\n",
      "    spatial, spatstat.data, spatstat.geom, spatstat.random, spatstat.sparse,\n",
      "    spatstat.utils, splancs, statmod, stringdist, stringi, stringr, survey,\n",
      "    survival, svglite, sys, systemfonts, tables, testthat, textshaping, tgp,\n",
      "    tibble, tidygraph, tidyr, tidyselect, tidytree, tidyverse, timeDate,\n",
      "    tinytex, treeio, triebeard, truncnorm, tweenr, tzdb, usethis, uuid, uwot,\n",
      "    vcd, vctrs, viridis, viridisLite, waldo, waveslim, whisker, withr, xfun,\n",
      "    xml2, yaml, yulab.utils, zip, zoo\n",
      "\n",
      "Old packages: 'FactoMineR', 'IRkernel', 'dplyr', 'ellipse', 'emmeans', 'fansi',\n",
      "  'ggplot2', 'heatmaply', 'lifecycle', 'plotly', 'readr', 'remotes', 'rlang',\n",
      "  'snakecase', 'utf8', 'vroom', 'webshot'\n",
      "\n"
     ]
    }
   ],
   "source": [
    "source(\"functions_promoter_data_preparation.r\")\n",
    "tissues <- get_tissue_names(\"/project/pauline_association_plots_data/experiments_single_data_2/bed/raw/\")\n",
    "source(\"enhancer_analysis/functions_tf_annotation.r\")"
   ]
  },
  {
   "cell_type": "markdown",
   "id": "41980826-2c23-4735-8bc2-661828118b16",
   "metadata": {
    "jupyter": {
     "source_hidden": true
    }
   },
   "source": [
    "see document \"3_tissues_CAGEr_analysisHUMAN.ipynb\", bedfile named 'All.samples.tagClusters.qLow0.1_qUp0.9.bed' should have been created with the following command:\n",
    "\n",
    "```command\n",
    "make bed file for all tissues\n",
    "exportToBed( object = tissuesCAGEset, what = \"tagClusters\"\n",
    "           , qLow = 0.1, qUp = 0.9, oneFile = TRUE)\n",
    "```"
   ]
  },
  {
   "cell_type": "markdown",
   "id": "dfe7822a-58df-4287-8167-8cc5a15de118",
   "metadata": {
    "tags": []
   },
   "source": [
    "## 1. Data Preparation\n",
    "### 1.1 Subset Bedfile in Separate Ones for Tissues\n",
    "the file 'All.samples.tagClusters.qLow0.1_qUp0.9.bed' has all the tissues, now we make separate files\n"
   ]
  },
  {
   "cell_type": "code",
   "execution_count": null,
   "id": "5e0a3785-cbac-4950-b6ae-3ba318370c38",
   "metadata": {},
   "outputs": [],
   "source": [
    "# make separate bedfile for each tissue\n",
    "\n",
    "awk_command <- 'awk \\'/track/{x=(substr($2,7)) \".bed\";}{print > x ;}\\' All.samples.tagClusters.qLow0.1_qUp0.9.bed'\n",
    "system(awk_command, intern = TRUE) %>% cat()"
   ]
  },
  {
   "cell_type": "code",
   "execution_count": 33,
   "id": "704cacab-c476-4f2d-a316-4a4c517b2545",
   "metadata": {
    "tags": []
   },
   "outputs": [],
   "source": [
    "setwd('/project/pauline_association_plots/code/01_promoter-celltype_matrix/experiments_single/bed/raw')\n"
   ]
  },
  {
   "cell_type": "markdown",
   "id": "563ece04-2a49-4fe0-9715-7bbbf9b5e8a0",
   "metadata": {},
   "source": [
    "### 1.2 Change Start and Stop to Promoter Regions in Every File"
   ]
  },
  {
   "cell_type": "code",
   "execution_count": 55,
   "id": "6c089ae0-6117-4a78-9943-44c2c30e7242",
   "metadata": {},
   "outputs": [],
   "source": [
    "# change regions (ctss clusters) to promoter regions and save files\n",
    "\n",
    "bp_upstream = 200\n",
    "bp_downstream = 50\n",
    "\n",
    "define_promoter_size(bp_upstream, bp_downstream, tissues)"
   ]
  },
  {
   "cell_type": "markdown",
   "id": "70acc21e-4822-486c-8413-db3e616f5447",
   "metadata": {},
   "source": [
    "### 1.3 Generate FASTA Files from these Bedfiles"
   ]
  },
  {
   "cell_type": "code",
   "execution_count": 20,
   "id": "cde3cd9b-db29-4507-b762-c1c2f7692303",
   "metadata": {
    "collapsed": true,
    "jupyter": {
     "outputs_hidden": true
    },
    "scrolled": true,
    "tags": []
   },
   "outputs": [
    {
     "name": "stdout",
     "output_type": "stream",
     "text": [
      "bedtools getfasta -fi hg18.fa -bed experiments_single/bed/raw/adipose_1.bed -s -fo experiments_single/fasta/adipose_1.fa\n",
      "bedtools getfasta -fi hg18.fa -bed experiments_single/bed/raw/adipose_2.bed -s -fo experiments_single/fasta/adipose_2.fa\n",
      "bedtools getfasta -fi hg18.fa -bed experiments_single/bed/raw/adipose_3.bed -s -fo experiments_single/fasta/adipose_3.fa\n",
      "bedtools getfasta -fi hg18.fa -bed experiments_single/bed/raw/adipose_4.bed -s -fo experiments_single/fasta/adipose_4.fa\n",
      "bedtools getfasta -fi hg18.fa -bed experiments_single/bed/raw/adrenal_gland_1.bed -s -fo experiments_single/fasta/adrenal_gland_1.fa\n",
      "bedtools getfasta -fi hg18.fa -bed experiments_single/bed/raw/adrenal_gland_2.bed -s -fo experiments_single/fasta/adrenal_gland_2.fa\n",
      "bedtools getfasta -fi hg18.fa -bed experiments_single/bed/raw/adrenal_gland_3.bed -s -fo experiments_single/fasta/adrenal_gland_3.fa\n",
      "bedtools getfasta -fi hg18.fa -bed experiments_single/bed/raw/blood_1.bed -s -fo experiments_single/fasta/blood_1.fa\n",
      "bedtools getfasta -fi hg18.fa -bed experiments_single/bed/raw/blood_10.bed -s -fo experiments_single/fasta/blood_10.fa\n",
      "bedtools getfasta -fi hg18.fa -bed experiments_single/bed/raw/blood_11.bed -s -fo experiments_single/fasta/blood_11.fa\n",
      "bedtools getfasta -fi hg18.fa -bed experiments_single/bed/raw/blood_12.bed -s -fo experiments_single/fasta/blood_12.fa\n",
      "bedtools getfasta -fi hg18.fa -bed experiments_single/bed/raw/blood_13.bed -s -fo experiments_single/fasta/blood_13.fa\n",
      "bedtools getfasta -fi hg18.fa -bed experiments_single/bed/raw/blood_14.bed -s -fo experiments_single/fasta/blood_14.fa\n",
      "bedtools getfasta -fi hg18.fa -bed experiments_single/bed/raw/blood_15.bed -s -fo experiments_single/fasta/blood_15.fa\n",
      "bedtools getfasta -fi hg18.fa -bed experiments_single/bed/raw/blood_16.bed -s -fo experiments_single/fasta/blood_16.fa\n",
      "bedtools getfasta -fi hg18.fa -bed experiments_single/bed/raw/blood_17.bed -s -fo experiments_single/fasta/blood_17.fa\n",
      "bedtools getfasta -fi hg18.fa -bed experiments_single/bed/raw/blood_18.bed -s -fo experiments_single/fasta/blood_18.fa\n",
      "bedtools getfasta -fi hg18.fa -bed experiments_single/bed/raw/blood_19.bed -s -fo experiments_single/fasta/blood_19.fa\n",
      "bedtools getfasta -fi hg18.fa -bed experiments_single/bed/raw/blood_2.bed -s -fo experiments_single/fasta/blood_2.fa\n",
      "bedtools getfasta -fi hg18.fa -bed experiments_single/bed/raw/blood_20.bed -s -fo experiments_single/fasta/blood_20.fa\n",
      "bedtools getfasta -fi hg18.fa -bed experiments_single/bed/raw/blood_21.bed -s -fo experiments_single/fasta/blood_21.fa\n",
      "bedtools getfasta -fi hg18.fa -bed experiments_single/bed/raw/blood_22.bed -s -fo experiments_single/fasta/blood_22.fa\n",
      "bedtools getfasta -fi hg18.fa -bed experiments_single/bed/raw/blood_23.bed -s -fo experiments_single/fasta/blood_23.fa\n",
      "bedtools getfasta -fi hg18.fa -bed experiments_single/bed/raw/blood_24.bed -s -fo experiments_single/fasta/blood_24.fa\n",
      "bedtools getfasta -fi hg18.fa -bed experiments_single/bed/raw/blood_25.bed -s -fo experiments_single/fasta/blood_25.fa\n",
      "bedtools getfasta -fi hg18.fa -bed experiments_single/bed/raw/blood_26.bed -s -fo experiments_single/fasta/blood_26.fa\n",
      "bedtools getfasta -fi hg18.fa -bed experiments_single/bed/raw/blood_27.bed -s -fo experiments_single/fasta/blood_27.fa\n",
      "bedtools getfasta -fi hg18.fa -bed experiments_single/bed/raw/blood_28.bed -s -fo experiments_single/fasta/blood_28.fa\n",
      "bedtools getfasta -fi hg18.fa -bed experiments_single/bed/raw/blood_29.bed -s -fo experiments_single/fasta/blood_29.fa\n",
      "bedtools getfasta -fi hg18.fa -bed experiments_single/bed/raw/blood_3.bed -s -fo experiments_single/fasta/blood_3.fa\n",
      "bedtools getfasta -fi hg18.fa -bed experiments_single/bed/raw/blood_30.bed -s -fo experiments_single/fasta/blood_30.fa\n",
      "bedtools getfasta -fi hg18.fa -bed experiments_single/bed/raw/blood_4.bed -s -fo experiments_single/fasta/blood_4.fa\n",
      "bedtools getfasta -fi hg18.fa -bed experiments_single/bed/raw/blood_5.bed -s -fo experiments_single/fasta/blood_5.fa\n",
      "bedtools getfasta -fi hg18.fa -bed experiments_single/bed/raw/blood_6.bed -s -fo experiments_single/fasta/blood_6.fa\n",
      "bedtools getfasta -fi hg18.fa -bed experiments_single/bed/raw/blood_7.bed -s -fo experiments_single/fasta/blood_7.fa\n",
      "bedtools getfasta -fi hg18.fa -bed experiments_single/bed/raw/blood_8.bed -s -fo experiments_single/fasta/blood_8.fa\n",
      "bedtools getfasta -fi hg18.fa -bed experiments_single/bed/raw/blood_9.bed -s -fo experiments_single/fasta/blood_9.fa\n",
      "bedtools getfasta -fi hg18.fa -bed experiments_single/bed/raw/bone_marrow_1.bed -s -fo experiments_single/fasta/bone_marrow_1.fa\n",
      "bedtools getfasta -fi hg18.fa -bed experiments_single/bed/raw/brain_1.bed -s -fo experiments_single/fasta/brain_1.fa\n",
      "bedtools getfasta -fi hg18.fa -bed experiments_single/bed/raw/breast_1.bed -s -fo experiments_single/fasta/breast_1.fa\n",
      "bedtools getfasta -fi hg18.fa -bed experiments_single/bed/raw/cecum_1.bed -s -fo experiments_single/fasta/cecum_1.fa\n",
      "bedtools getfasta -fi hg18.fa -bed experiments_single/bed/raw/cecum_2.bed -s -fo experiments_single/fasta/cecum_2.fa\n",
      "bedtools getfasta -fi hg18.fa -bed experiments_single/bed/raw/cerebellum_1.bed -s -fo experiments_single/fasta/cerebellum_1.fa\n",
      "bedtools getfasta -fi hg18.fa -bed experiments_single/bed/raw/cerebrum_1.bed -s -fo experiments_single/fasta/cerebrum_1.fa\n",
      "bedtools getfasta -fi hg18.fa -bed experiments_single/bed/raw/colon_1.bed -s -fo experiments_single/fasta/colon_1.fa\n",
      "bedtools getfasta -fi hg18.fa -bed experiments_single/bed/raw/colon_2.bed -s -fo experiments_single/fasta/colon_2.fa\n",
      "bedtools getfasta -fi hg18.fa -bed experiments_single/bed/raw/colon_3.bed -s -fo experiments_single/fasta/colon_3.fa\n",
      "bedtools getfasta -fi hg18.fa -bed experiments_single/bed/raw/embryo_1.bed -s -fo experiments_single/fasta/embryo_1.fa\n",
      "bedtools getfasta -fi hg18.fa -bed experiments_single/bed/raw/epididymis_1.bed -s -fo experiments_single/fasta/epididymis_1.fa\n",
      "bedtools getfasta -fi hg18.fa -bed experiments_single/bed/raw/frontal_lobe_1.bed -s -fo experiments_single/fasta/frontal_lobe_1.fa\n",
      "bedtools getfasta -fi hg18.fa -bed experiments_single/bed/raw/heart_1.bed -s -fo experiments_single/fasta/heart_1.fa\n",
      "bedtools getfasta -fi hg18.fa -bed experiments_single/bed/raw/kidney_1.bed -s -fo experiments_single/fasta/kidney_1.fa\n",
      "bedtools getfasta -fi hg18.fa -bed experiments_single/bed/raw/kidney_2.bed -s -fo experiments_single/fasta/kidney_2.fa\n",
      "bedtools getfasta -fi hg18.fa -bed experiments_single/bed/raw/large_intestine_1.bed -s -fo experiments_single/fasta/large_intestine_1.fa\n",
      "bedtools getfasta -fi hg18.fa -bed experiments_single/bed/raw/large_intestine_2.bed -s -fo experiments_single/fasta/large_intestine_2.fa\n",
      "bedtools getfasta -fi hg18.fa -bed experiments_single/bed/raw/liver_1.bed -s -fo experiments_single/fasta/liver_1.fa\n",
      "bedtools getfasta -fi hg18.fa -bed experiments_single/bed/raw/liver_2.bed -s -fo experiments_single/fasta/liver_2.fa\n",
      "bedtools getfasta -fi hg18.fa -bed experiments_single/bed/raw/liver_3.bed -s -fo experiments_single/fasta/liver_3.fa\n",
      "bedtools getfasta -fi hg18.fa -bed experiments_single/bed/raw/lung_1.bed -s -fo experiments_single/fasta/lung_1.fa\n",
      "bedtools getfasta -fi hg18.fa -bed experiments_single/bed/raw/lung_2.bed -s -fo experiments_single/fasta/lung_2.fa\n",
      "bedtools getfasta -fi hg18.fa -bed experiments_single/bed/raw/lung_3.bed -s -fo experiments_single/fasta/lung_3.fa\n",
      "bedtools getfasta -fi hg18.fa -bed experiments_single/bed/raw/lung_4.bed -s -fo experiments_single/fasta/lung_4.fa\n",
      "bedtools getfasta -fi hg18.fa -bed experiments_single/bed/raw/mammary_gland_1.bed -s -fo experiments_single/fasta/mammary_gland_1.fa\n",
      "bedtools getfasta -fi hg18.fa -bed experiments_single/bed/raw/muscle_1.bed -s -fo experiments_single/fasta/muscle_1.fa\n",
      "bedtools getfasta -fi hg18.fa -bed experiments_single/bed/raw/occipital_lobe_1.bed -s -fo experiments_single/fasta/occipital_lobe_1.fa\n",
      "bedtools getfasta -fi hg18.fa -bed experiments_single/bed/raw/pancreas_1.bed -s -fo experiments_single/fasta/pancreas_1.fa\n",
      "bedtools getfasta -fi hg18.fa -bed experiments_single/bed/raw/parietal_lobe_1.bed -s -fo experiments_single/fasta/parietal_lobe_1.fa\n",
      "bedtools getfasta -fi hg18.fa -bed experiments_single/bed/raw/prostate_gland_1.bed -s -fo experiments_single/fasta/prostate_gland_1.fa\n",
      "bedtools getfasta -fi hg18.fa -bed experiments_single/bed/raw/rectum_1.bed -s -fo experiments_single/fasta/rectum_1.fa\n",
      "bedtools getfasta -fi hg18.fa -bed experiments_single/bed/raw/rectum_2.bed -s -fo experiments_single/fasta/rectum_2.fa\n",
      "bedtools getfasta -fi hg18.fa -bed experiments_single/bed/raw/renal_artery_1.bed -s -fo experiments_single/fasta/renal_artery_1.fa\n",
      "bedtools getfasta -fi hg18.fa -bed experiments_single/bed/raw/skin_1.bed -s -fo experiments_single/fasta/skin_1.fa\n",
      "bedtools getfasta -fi hg18.fa -bed experiments_single/bed/raw/skin_2.bed -s -fo experiments_single/fasta/skin_2.fa\n",
      "bedtools getfasta -fi hg18.fa -bed experiments_single/bed/raw/small_intestine_1.bed -s -fo experiments_single/fasta/small_intestine_1.fa\n",
      "bedtools getfasta -fi hg18.fa -bed experiments_single/bed/raw/spleen_1.bed -s -fo experiments_single/fasta/spleen_1.fa\n",
      "bedtools getfasta -fi hg18.fa -bed experiments_single/bed/raw/testis_1.bed -s -fo experiments_single/fasta/testis_1.fa\n",
      "bedtools getfasta -fi hg18.fa -bed experiments_single/bed/raw/thymus_1.bed -s -fo experiments_single/fasta/thymus_1.fa\n",
      "bedtools getfasta -fi hg18.fa -bed experiments_single/bed/raw/undefined_1.bed -s -fo experiments_single/fasta/undefined_1.fa\n",
      "bedtools getfasta -fi hg18.fa -bed experiments_single/bed/raw/undefined_2.bed -s -fo experiments_single/fasta/undefined_2.fa\n",
      "bedtools getfasta -fi hg18.fa -bed experiments_single/bed/raw/undefined_3.bed -s -fo experiments_single/fasta/undefined_3.fa\n",
      "bedtools getfasta -fi hg18.fa -bed experiments_single/bed/raw/ureter_1.bed -s -fo experiments_single/fasta/ureter_1.fa\n",
      "bedtools getfasta -fi hg18.fa -bed experiments_single/bed/raw/urinary_bladder_1.bed -s -fo experiments_single/fasta/urinary_bladder_1.fa\n"
     ]
    }
   ],
   "source": [
    "# unchanged promoters\n",
    "\n",
    "for (i in 1:length(tissues)) {\n",
    "    system(\n",
    "        paste(\"bedtools getfasta -fi hg18.fa -bed experiments_single_2/bed/raw/\", \n",
    "              tissues[i], \".bed -s -fo experiments_single/fasta/raw/\", \n",
    "              tissues[i] ,\".fa\", \"\\n\", sep=\"\"), intern = TRUE)\n",
    "    }"
   ]
  },
  {
   "cell_type": "code",
   "execution_count": 56,
   "id": "d8450c8e-ff9e-4dbc-9cd1-820c3a599ff9",
   "metadata": {
    "collapsed": true,
    "jupyter": {
     "outputs_hidden": true
    },
    "tags": []
   },
   "outputs": [
    {
     "name": "stdout",
     "output_type": "stream",
     "text": [
      "bedtools getfasta -fi hg18.fa -bed experiments_single/bed/promoter_m200_p50/adipose_1.bed -s -fo experiments_single/fasta/promoter_m200_p50/adipose_1.fa\n",
      "bedtools getfasta -fi hg18.fa -bed experiments_single/bed/promoter_m200_p50/adipose_2.bed -s -fo experiments_single/fasta/promoter_m200_p50/adipose_2.fa\n",
      "bedtools getfasta -fi hg18.fa -bed experiments_single/bed/promoter_m200_p50/adipose_3.bed -s -fo experiments_single/fasta/promoter_m200_p50/adipose_3.fa\n",
      "bedtools getfasta -fi hg18.fa -bed experiments_single/bed/promoter_m200_p50/adipose_4.bed -s -fo experiments_single/fasta/promoter_m200_p50/adipose_4.fa\n",
      "bedtools getfasta -fi hg18.fa -bed experiments_single/bed/promoter_m200_p50/adrenal_gland_1.bed -s -fo experiments_single/fasta/promoter_m200_p50/adrenal_gland_1.fa\n",
      "bedtools getfasta -fi hg18.fa -bed experiments_single/bed/promoter_m200_p50/adrenal_gland_2.bed -s -fo experiments_single/fasta/promoter_m200_p50/adrenal_gland_2.fa\n",
      "bedtools getfasta -fi hg18.fa -bed experiments_single/bed/promoter_m200_p50/adrenal_gland_3.bed -s -fo experiments_single/fasta/promoter_m200_p50/adrenal_gland_3.fa\n",
      "bedtools getfasta -fi hg18.fa -bed experiments_single/bed/promoter_m200_p50/blood_1.bed -s -fo experiments_single/fasta/promoter_m200_p50/blood_1.fa\n",
      "bedtools getfasta -fi hg18.fa -bed experiments_single/bed/promoter_m200_p50/blood_10.bed -s -fo experiments_single/fasta/promoter_m200_p50/blood_10.fa\n",
      "bedtools getfasta -fi hg18.fa -bed experiments_single/bed/promoter_m200_p50/blood_11.bed -s -fo experiments_single/fasta/promoter_m200_p50/blood_11.fa\n",
      "bedtools getfasta -fi hg18.fa -bed experiments_single/bed/promoter_m200_p50/blood_12.bed -s -fo experiments_single/fasta/promoter_m200_p50/blood_12.fa\n",
      "bedtools getfasta -fi hg18.fa -bed experiments_single/bed/promoter_m200_p50/blood_13.bed -s -fo experiments_single/fasta/promoter_m200_p50/blood_13.fa\n",
      "bedtools getfasta -fi hg18.fa -bed experiments_single/bed/promoter_m200_p50/blood_14.bed -s -fo experiments_single/fasta/promoter_m200_p50/blood_14.fa\n",
      "bedtools getfasta -fi hg18.fa -bed experiments_single/bed/promoter_m200_p50/blood_15.bed -s -fo experiments_single/fasta/promoter_m200_p50/blood_15.fa\n",
      "bedtools getfasta -fi hg18.fa -bed experiments_single/bed/promoter_m200_p50/blood_16.bed -s -fo experiments_single/fasta/promoter_m200_p50/blood_16.fa\n",
      "bedtools getfasta -fi hg18.fa -bed experiments_single/bed/promoter_m200_p50/blood_17.bed -s -fo experiments_single/fasta/promoter_m200_p50/blood_17.fa\n",
      "bedtools getfasta -fi hg18.fa -bed experiments_single/bed/promoter_m200_p50/blood_18.bed -s -fo experiments_single/fasta/promoter_m200_p50/blood_18.fa\n",
      "bedtools getfasta -fi hg18.fa -bed experiments_single/bed/promoter_m200_p50/blood_19.bed -s -fo experiments_single/fasta/promoter_m200_p50/blood_19.fa\n",
      "bedtools getfasta -fi hg18.fa -bed experiments_single/bed/promoter_m200_p50/blood_2.bed -s -fo experiments_single/fasta/promoter_m200_p50/blood_2.fa\n",
      "bedtools getfasta -fi hg18.fa -bed experiments_single/bed/promoter_m200_p50/blood_20.bed -s -fo experiments_single/fasta/promoter_m200_p50/blood_20.fa\n",
      "bedtools getfasta -fi hg18.fa -bed experiments_single/bed/promoter_m200_p50/blood_21.bed -s -fo experiments_single/fasta/promoter_m200_p50/blood_21.fa\n",
      "bedtools getfasta -fi hg18.fa -bed experiments_single/bed/promoter_m200_p50/blood_22.bed -s -fo experiments_single/fasta/promoter_m200_p50/blood_22.fa\n",
      "bedtools getfasta -fi hg18.fa -bed experiments_single/bed/promoter_m200_p50/blood_23.bed -s -fo experiments_single/fasta/promoter_m200_p50/blood_23.fa\n",
      "bedtools getfasta -fi hg18.fa -bed experiments_single/bed/promoter_m200_p50/blood_24.bed -s -fo experiments_single/fasta/promoter_m200_p50/blood_24.fa\n",
      "bedtools getfasta -fi hg18.fa -bed experiments_single/bed/promoter_m200_p50/blood_25.bed -s -fo experiments_single/fasta/promoter_m200_p50/blood_25.fa\n",
      "bedtools getfasta -fi hg18.fa -bed experiments_single/bed/promoter_m200_p50/blood_26.bed -s -fo experiments_single/fasta/promoter_m200_p50/blood_26.fa\n",
      "bedtools getfasta -fi hg18.fa -bed experiments_single/bed/promoter_m200_p50/blood_27.bed -s -fo experiments_single/fasta/promoter_m200_p50/blood_27.fa\n",
      "bedtools getfasta -fi hg18.fa -bed experiments_single/bed/promoter_m200_p50/blood_28.bed -s -fo experiments_single/fasta/promoter_m200_p50/blood_28.fa\n",
      "bedtools getfasta -fi hg18.fa -bed experiments_single/bed/promoter_m200_p50/blood_29.bed -s -fo experiments_single/fasta/promoter_m200_p50/blood_29.fa\n",
      "bedtools getfasta -fi hg18.fa -bed experiments_single/bed/promoter_m200_p50/blood_3.bed -s -fo experiments_single/fasta/promoter_m200_p50/blood_3.fa\n",
      "bedtools getfasta -fi hg18.fa -bed experiments_single/bed/promoter_m200_p50/blood_30.bed -s -fo experiments_single/fasta/promoter_m200_p50/blood_30.fa\n",
      "bedtools getfasta -fi hg18.fa -bed experiments_single/bed/promoter_m200_p50/blood_4.bed -s -fo experiments_single/fasta/promoter_m200_p50/blood_4.fa\n",
      "bedtools getfasta -fi hg18.fa -bed experiments_single/bed/promoter_m200_p50/blood_5.bed -s -fo experiments_single/fasta/promoter_m200_p50/blood_5.fa\n",
      "bedtools getfasta -fi hg18.fa -bed experiments_single/bed/promoter_m200_p50/blood_6.bed -s -fo experiments_single/fasta/promoter_m200_p50/blood_6.fa\n",
      "bedtools getfasta -fi hg18.fa -bed experiments_single/bed/promoter_m200_p50/blood_7.bed -s -fo experiments_single/fasta/promoter_m200_p50/blood_7.fa\n",
      "bedtools getfasta -fi hg18.fa -bed experiments_single/bed/promoter_m200_p50/blood_8.bed -s -fo experiments_single/fasta/promoter_m200_p50/blood_8.fa\n",
      "bedtools getfasta -fi hg18.fa -bed experiments_single/bed/promoter_m200_p50/blood_9.bed -s -fo experiments_single/fasta/promoter_m200_p50/blood_9.fa\n",
      "bedtools getfasta -fi hg18.fa -bed experiments_single/bed/promoter_m200_p50/bone_marrow_1.bed -s -fo experiments_single/fasta/promoter_m200_p50/bone_marrow_1.fa\n",
      "bedtools getfasta -fi hg18.fa -bed experiments_single/bed/promoter_m200_p50/brain_1.bed -s -fo experiments_single/fasta/promoter_m200_p50/brain_1.fa\n",
      "bedtools getfasta -fi hg18.fa -bed experiments_single/bed/promoter_m200_p50/breast_1.bed -s -fo experiments_single/fasta/promoter_m200_p50/breast_1.fa\n",
      "bedtools getfasta -fi hg18.fa -bed experiments_single/bed/promoter_m200_p50/cecum_1.bed -s -fo experiments_single/fasta/promoter_m200_p50/cecum_1.fa\n",
      "bedtools getfasta -fi hg18.fa -bed experiments_single/bed/promoter_m200_p50/cecum_2.bed -s -fo experiments_single/fasta/promoter_m200_p50/cecum_2.fa\n",
      "bedtools getfasta -fi hg18.fa -bed experiments_single/bed/promoter_m200_p50/cerebellum_1.bed -s -fo experiments_single/fasta/promoter_m200_p50/cerebellum_1.fa\n",
      "bedtools getfasta -fi hg18.fa -bed experiments_single/bed/promoter_m200_p50/cerebrum_1.bed -s -fo experiments_single/fasta/promoter_m200_p50/cerebrum_1.fa\n",
      "bedtools getfasta -fi hg18.fa -bed experiments_single/bed/promoter_m200_p50/colon_1.bed -s -fo experiments_single/fasta/promoter_m200_p50/colon_1.fa\n",
      "bedtools getfasta -fi hg18.fa -bed experiments_single/bed/promoter_m200_p50/colon_2.bed -s -fo experiments_single/fasta/promoter_m200_p50/colon_2.fa\n",
      "bedtools getfasta -fi hg18.fa -bed experiments_single/bed/promoter_m200_p50/colon_3.bed -s -fo experiments_single/fasta/promoter_m200_p50/colon_3.fa\n",
      "bedtools getfasta -fi hg18.fa -bed experiments_single/bed/promoter_m200_p50/embryo_1.bed -s -fo experiments_single/fasta/promoter_m200_p50/embryo_1.fa\n",
      "bedtools getfasta -fi hg18.fa -bed experiments_single/bed/promoter_m200_p50/epididymis_1.bed -s -fo experiments_single/fasta/promoter_m200_p50/epididymis_1.fa\n",
      "bedtools getfasta -fi hg18.fa -bed experiments_single/bed/promoter_m200_p50/frontal_lobe_1.bed -s -fo experiments_single/fasta/promoter_m200_p50/frontal_lobe_1.fa\n",
      "bedtools getfasta -fi hg18.fa -bed experiments_single/bed/promoter_m200_p50/heart_1.bed -s -fo experiments_single/fasta/promoter_m200_p50/heart_1.fa\n",
      "bedtools getfasta -fi hg18.fa -bed experiments_single/bed/promoter_m200_p50/kidney_1.bed -s -fo experiments_single/fasta/promoter_m200_p50/kidney_1.fa\n",
      "bedtools getfasta -fi hg18.fa -bed experiments_single/bed/promoter_m200_p50/kidney_2.bed -s -fo experiments_single/fasta/promoter_m200_p50/kidney_2.fa\n",
      "bedtools getfasta -fi hg18.fa -bed experiments_single/bed/promoter_m200_p50/large_intestine_1.bed -s -fo experiments_single/fasta/promoter_m200_p50/large_intestine_1.fa\n",
      "bedtools getfasta -fi hg18.fa -bed experiments_single/bed/promoter_m200_p50/large_intestine_2.bed -s -fo experiments_single/fasta/promoter_m200_p50/large_intestine_2.fa\n",
      "bedtools getfasta -fi hg18.fa -bed experiments_single/bed/promoter_m200_p50/liver_1.bed -s -fo experiments_single/fasta/promoter_m200_p50/liver_1.fa\n",
      "bedtools getfasta -fi hg18.fa -bed experiments_single/bed/promoter_m200_p50/liver_2.bed -s -fo experiments_single/fasta/promoter_m200_p50/liver_2.fa\n",
      "bedtools getfasta -fi hg18.fa -bed experiments_single/bed/promoter_m200_p50/liver_3.bed -s -fo experiments_single/fasta/promoter_m200_p50/liver_3.fa\n",
      "bedtools getfasta -fi hg18.fa -bed experiments_single/bed/promoter_m200_p50/lung_1.bed -s -fo experiments_single/fasta/promoter_m200_p50/lung_1.fa\n",
      "bedtools getfasta -fi hg18.fa -bed experiments_single/bed/promoter_m200_p50/lung_2.bed -s -fo experiments_single/fasta/promoter_m200_p50/lung_2.fa\n",
      "bedtools getfasta -fi hg18.fa -bed experiments_single/bed/promoter_m200_p50/lung_3.bed -s -fo experiments_single/fasta/promoter_m200_p50/lung_3.fa\n",
      "bedtools getfasta -fi hg18.fa -bed experiments_single/bed/promoter_m200_p50/lung_4.bed -s -fo experiments_single/fasta/promoter_m200_p50/lung_4.fa\n",
      "bedtools getfasta -fi hg18.fa -bed experiments_single/bed/promoter_m200_p50/mammary_gland_1.bed -s -fo experiments_single/fasta/promoter_m200_p50/mammary_gland_1.fa\n",
      "bedtools getfasta -fi hg18.fa -bed experiments_single/bed/promoter_m200_p50/muscle_1.bed -s -fo experiments_single/fasta/promoter_m200_p50/muscle_1.fa\n",
      "bedtools getfasta -fi hg18.fa -bed experiments_single/bed/promoter_m200_p50/occipital_lobe_1.bed -s -fo experiments_single/fasta/promoter_m200_p50/occipital_lobe_1.fa\n",
      "bedtools getfasta -fi hg18.fa -bed experiments_single/bed/promoter_m200_p50/pancreas_1.bed -s -fo experiments_single/fasta/promoter_m200_p50/pancreas_1.fa\n",
      "bedtools getfasta -fi hg18.fa -bed experiments_single/bed/promoter_m200_p50/parietal_lobe_1.bed -s -fo experiments_single/fasta/promoter_m200_p50/parietal_lobe_1.fa\n",
      "bedtools getfasta -fi hg18.fa -bed experiments_single/bed/promoter_m200_p50/prostate_gland_1.bed -s -fo experiments_single/fasta/promoter_m200_p50/prostate_gland_1.fa\n",
      "bedtools getfasta -fi hg18.fa -bed experiments_single/bed/promoter_m200_p50/rectum_1.bed -s -fo experiments_single/fasta/promoter_m200_p50/rectum_1.fa\n",
      "bedtools getfasta -fi hg18.fa -bed experiments_single/bed/promoter_m200_p50/rectum_2.bed -s -fo experiments_single/fasta/promoter_m200_p50/rectum_2.fa\n",
      "bedtools getfasta -fi hg18.fa -bed experiments_single/bed/promoter_m200_p50/renal_artery_1.bed -s -fo experiments_single/fasta/promoter_m200_p50/renal_artery_1.fa\n",
      "bedtools getfasta -fi hg18.fa -bed experiments_single/bed/promoter_m200_p50/skin_1.bed -s -fo experiments_single/fasta/promoter_m200_p50/skin_1.fa\n",
      "bedtools getfasta -fi hg18.fa -bed experiments_single/bed/promoter_m200_p50/skin_2.bed -s -fo experiments_single/fasta/promoter_m200_p50/skin_2.fa\n",
      "bedtools getfasta -fi hg18.fa -bed experiments_single/bed/promoter_m200_p50/small_intestine_1.bed -s -fo experiments_single/fasta/promoter_m200_p50/small_intestine_1.fa\n",
      "bedtools getfasta -fi hg18.fa -bed experiments_single/bed/promoter_m200_p50/spleen_1.bed -s -fo experiments_single/fasta/promoter_m200_p50/spleen_1.fa\n",
      "bedtools getfasta -fi hg18.fa -bed experiments_single/bed/promoter_m200_p50/testis_1.bed -s -fo experiments_single/fasta/promoter_m200_p50/testis_1.fa\n",
      "bedtools getfasta -fi hg18.fa -bed experiments_single/bed/promoter_m200_p50/thymus_1.bed -s -fo experiments_single/fasta/promoter_m200_p50/thymus_1.fa\n",
      "bedtools getfasta -fi hg18.fa -bed experiments_single/bed/promoter_m200_p50/undefined_1.bed -s -fo experiments_single/fasta/promoter_m200_p50/undefined_1.fa\n",
      "bedtools getfasta -fi hg18.fa -bed experiments_single/bed/promoter_m200_p50/undefined_2.bed -s -fo experiments_single/fasta/promoter_m200_p50/undefined_2.fa\n",
      "bedtools getfasta -fi hg18.fa -bed experiments_single/bed/promoter_m200_p50/undefined_3.bed -s -fo experiments_single/fasta/promoter_m200_p50/undefined_3.fa\n",
      "bedtools getfasta -fi hg18.fa -bed experiments_single/bed/promoter_m200_p50/ureter_1.bed -s -fo experiments_single/fasta/promoter_m200_p50/ureter_1.fa\n",
      "bedtools getfasta -fi hg18.fa -bed experiments_single/bed/promoter_m200_p50/urinary_bladder_1.bed -s -fo experiments_single/fasta/promoter_m200_p50/urinary_bladder_1.fa\n"
     ]
    }
   ],
   "source": [
    "# changed promoter areas\n",
    "\n",
    "for (i in 1:length(tissues)) {\n",
    "    system(\n",
    "        paste(\"bedtools getfasta -fi hg18.fa -bed experiments_single_2/bed/promoter_m200_p50/\", \n",
    "              tissues[i], \".bed -s -fo experiments_single/fasta/promoter_m200_p50/\", \n",
    "              tissues[i] ,\".fa\", \"\\n\", sep=\"\"), intern = TRUE)\n",
    "    }"
   ]
  },
  {
   "cell_type": "markdown",
   "id": "07a5a8cd-4d64-4ad3-b5f1-536327936b8b",
   "metadata": {
    "tags": []
   },
   "source": [
    "### 1.4 FIMO Motif Finding and TF Annotation\n",
    "\n",
    "fimo transfac2021_vertebrate_recommended\\(1\\).meme spleen.fa --> first run, in next run specify output folder, like here specified\n",
    "https://meme-suite.org/meme/doc/fimo.html?man_type=web"
   ]
  },
  {
   "cell_type": "code",
   "execution_count": 78,
   "id": "e2fa4efe-6bed-471f-a722-3054b5520faf",
   "metadata": {
    "collapsed": true,
    "jupyter": {
     "outputs_hidden": true
    },
    "scrolled": true,
    "tags": []
   },
   "outputs": [
    {
     "name": "stdout",
     "output_type": "stream",
     "text": [
      "fimo --qv-thresh --o experiments_single/fimo/qv-thres/adipose_1 transfac2021_vertebrate_recommended.meme experiments_single/fasta/promoter_m200_p50/adipose_1.fa\n",
      "fimo --qv-thresh --o experiments_single/fimo/qv-thres/adipose_2 transfac2021_vertebrate_recommended.meme experiments_single/fasta/promoter_m200_p50/adipose_2.fa\n",
      "fimo --qv-thresh --o experiments_single/fimo/qv-thres/adipose_3 transfac2021_vertebrate_recommended.meme experiments_single/fasta/promoter_m200_p50/adipose_3.fa\n",
      "fimo --qv-thresh --o experiments_single/fimo/qv-thres/adipose_4 transfac2021_vertebrate_recommended.meme experiments_single/fasta/promoter_m200_p50/adipose_4.fa\n",
      "fimo --qv-thresh --o experiments_single/fimo/qv-thres/adrenal_gland_1 transfac2021_vertebrate_recommended.meme experiments_single/fasta/promoter_m200_p50/adrenal_gland_1.fa\n",
      "fimo --qv-thresh --o experiments_single/fimo/qv-thres/adrenal_gland_2 transfac2021_vertebrate_recommended.meme experiments_single/fasta/promoter_m200_p50/adrenal_gland_2.fa\n",
      "fimo --qv-thresh --o experiments_single/fimo/qv-thres/adrenal_gland_3 transfac2021_vertebrate_recommended.meme experiments_single/fasta/promoter_m200_p50/adrenal_gland_3.fa\n",
      "fimo --qv-thresh --o experiments_single/fimo/qv-thres/blood_1 transfac2021_vertebrate_recommended.meme experiments_single/fasta/promoter_m200_p50/blood_1.fa\n",
      "fimo --qv-thresh --o experiments_single/fimo/qv-thres/blood_10 transfac2021_vertebrate_recommended.meme experiments_single/fasta/promoter_m200_p50/blood_10.fa\n",
      "fimo --qv-thresh --o experiments_single/fimo/qv-thres/blood_11 transfac2021_vertebrate_recommended.meme experiments_single/fasta/promoter_m200_p50/blood_11.fa\n",
      "fimo --qv-thresh --o experiments_single/fimo/qv-thres/blood_12 transfac2021_vertebrate_recommended.meme experiments_single/fasta/promoter_m200_p50/blood_12.fa\n",
      "fimo --qv-thresh --o experiments_single/fimo/qv-thres/blood_13 transfac2021_vertebrate_recommended.meme experiments_single/fasta/promoter_m200_p50/blood_13.fa\n",
      "fimo --qv-thresh --o experiments_single/fimo/qv-thres/blood_14 transfac2021_vertebrate_recommended.meme experiments_single/fasta/promoter_m200_p50/blood_14.fa\n",
      "fimo --qv-thresh --o experiments_single/fimo/qv-thres/blood_15 transfac2021_vertebrate_recommended.meme experiments_single/fasta/promoter_m200_p50/blood_15.fa\n",
      "fimo --qv-thresh --o experiments_single/fimo/qv-thres/blood_16 transfac2021_vertebrate_recommended.meme experiments_single/fasta/promoter_m200_p50/blood_16.fa\n",
      "fimo --qv-thresh --o experiments_single/fimo/qv-thres/blood_17 transfac2021_vertebrate_recommended.meme experiments_single/fasta/promoter_m200_p50/blood_17.fa\n",
      "fimo --qv-thresh --o experiments_single/fimo/qv-thres/blood_18 transfac2021_vertebrate_recommended.meme experiments_single/fasta/promoter_m200_p50/blood_18.fa\n",
      "fimo --qv-thresh --o experiments_single/fimo/qv-thres/blood_19 transfac2021_vertebrate_recommended.meme experiments_single/fasta/promoter_m200_p50/blood_19.fa\n",
      "fimo --qv-thresh --o experiments_single/fimo/qv-thres/blood_2 transfac2021_vertebrate_recommended.meme experiments_single/fasta/promoter_m200_p50/blood_2.fa\n",
      "fimo --qv-thresh --o experiments_single/fimo/qv-thres/blood_20 transfac2021_vertebrate_recommended.meme experiments_single/fasta/promoter_m200_p50/blood_20.fa\n",
      "fimo --qv-thresh --o experiments_single/fimo/qv-thres/blood_21 transfac2021_vertebrate_recommended.meme experiments_single/fasta/promoter_m200_p50/blood_21.fa\n",
      "fimo --qv-thresh --o experiments_single/fimo/qv-thres/blood_22 transfac2021_vertebrate_recommended.meme experiments_single/fasta/promoter_m200_p50/blood_22.fa\n",
      "fimo --qv-thresh --o experiments_single/fimo/qv-thres/blood_23 transfac2021_vertebrate_recommended.meme experiments_single/fasta/promoter_m200_p50/blood_23.fa\n",
      "fimo --qv-thresh --o experiments_single/fimo/qv-thres/blood_24 transfac2021_vertebrate_recommended.meme experiments_single/fasta/promoter_m200_p50/blood_24.fa\n",
      "fimo --qv-thresh --o experiments_single/fimo/qv-thres/blood_25 transfac2021_vertebrate_recommended.meme experiments_single/fasta/promoter_m200_p50/blood_25.fa\n",
      "fimo --qv-thresh --o experiments_single/fimo/qv-thres/blood_26 transfac2021_vertebrate_recommended.meme experiments_single/fasta/promoter_m200_p50/blood_26.fa\n",
      "fimo --qv-thresh --o experiments_single/fimo/qv-thres/blood_27 transfac2021_vertebrate_recommended.meme experiments_single/fasta/promoter_m200_p50/blood_27.fa\n",
      "fimo --qv-thresh --o experiments_single/fimo/qv-thres/blood_28 transfac2021_vertebrate_recommended.meme experiments_single/fasta/promoter_m200_p50/blood_28.fa\n",
      "fimo --qv-thresh --o experiments_single/fimo/qv-thres/blood_29 transfac2021_vertebrate_recommended.meme experiments_single/fasta/promoter_m200_p50/blood_29.fa\n",
      "fimo --qv-thresh --o experiments_single/fimo/qv-thres/blood_3 transfac2021_vertebrate_recommended.meme experiments_single/fasta/promoter_m200_p50/blood_3.fa\n",
      "fimo --qv-thresh --o experiments_single/fimo/qv-thres/blood_30 transfac2021_vertebrate_recommended.meme experiments_single/fasta/promoter_m200_p50/blood_30.fa\n",
      "fimo --qv-thresh --o experiments_single/fimo/qv-thres/blood_4 transfac2021_vertebrate_recommended.meme experiments_single/fasta/promoter_m200_p50/blood_4.fa\n",
      "fimo --qv-thresh --o experiments_single/fimo/qv-thres/blood_5 transfac2021_vertebrate_recommended.meme experiments_single/fasta/promoter_m200_p50/blood_5.fa\n",
      "fimo --qv-thresh --o experiments_single/fimo/qv-thres/blood_6 transfac2021_vertebrate_recommended.meme experiments_single/fasta/promoter_m200_p50/blood_6.fa\n",
      "fimo --qv-thresh --o experiments_single/fimo/qv-thres/blood_7 transfac2021_vertebrate_recommended.meme experiments_single/fasta/promoter_m200_p50/blood_7.fa\n",
      "fimo --qv-thresh --o experiments_single/fimo/qv-thres/blood_8 transfac2021_vertebrate_recommended.meme experiments_single/fasta/promoter_m200_p50/blood_8.fa\n",
      "fimo --qv-thresh --o experiments_single/fimo/qv-thres/blood_9 transfac2021_vertebrate_recommended.meme experiments_single/fasta/promoter_m200_p50/blood_9.fa\n",
      "fimo --qv-thresh --o experiments_single/fimo/qv-thres/bone_marrow_1 transfac2021_vertebrate_recommended.meme experiments_single/fasta/promoter_m200_p50/bone_marrow_1.fa\n",
      "fimo --qv-thresh --o experiments_single/fimo/qv-thres/brain_1 transfac2021_vertebrate_recommended.meme experiments_single/fasta/promoter_m200_p50/brain_1.fa\n",
      "fimo --qv-thresh --o experiments_single/fimo/qv-thres/breast_1 transfac2021_vertebrate_recommended.meme experiments_single/fasta/promoter_m200_p50/breast_1.fa\n",
      "fimo --qv-thresh --o experiments_single/fimo/qv-thres/cecum_1 transfac2021_vertebrate_recommended.meme experiments_single/fasta/promoter_m200_p50/cecum_1.fa\n",
      "fimo --qv-thresh --o experiments_single/fimo/qv-thres/cecum_2 transfac2021_vertebrate_recommended.meme experiments_single/fasta/promoter_m200_p50/cecum_2.fa\n",
      "fimo --qv-thresh --o experiments_single/fimo/qv-thres/cerebellum_1 transfac2021_vertebrate_recommended.meme experiments_single/fasta/promoter_m200_p50/cerebellum_1.fa\n",
      "fimo --qv-thresh --o experiments_single/fimo/qv-thres/cerebrum_1 transfac2021_vertebrate_recommended.meme experiments_single/fasta/promoter_m200_p50/cerebrum_1.fa\n",
      "fimo --qv-thresh --o experiments_single/fimo/qv-thres/colon_1 transfac2021_vertebrate_recommended.meme experiments_single/fasta/promoter_m200_p50/colon_1.fa\n",
      "fimo --qv-thresh --o experiments_single/fimo/qv-thres/colon_2 transfac2021_vertebrate_recommended.meme experiments_single/fasta/promoter_m200_p50/colon_2.fa\n",
      "fimo --qv-thresh --o experiments_single/fimo/qv-thres/colon_3 transfac2021_vertebrate_recommended.meme experiments_single/fasta/promoter_m200_p50/colon_3.fa\n",
      "fimo --qv-thresh --o experiments_single/fimo/qv-thres/embryo_1 transfac2021_vertebrate_recommended.meme experiments_single/fasta/promoter_m200_p50/embryo_1.fa\n",
      "fimo --qv-thresh --o experiments_single/fimo/qv-thres/epididymis_1 transfac2021_vertebrate_recommended.meme experiments_single/fasta/promoter_m200_p50/epididymis_1.fa\n",
      "fimo --qv-thresh --o experiments_single/fimo/qv-thres/frontal_lobe_1 transfac2021_vertebrate_recommended.meme experiments_single/fasta/promoter_m200_p50/frontal_lobe_1.fa\n",
      "fimo --qv-thresh --o experiments_single/fimo/qv-thres/heart_1 transfac2021_vertebrate_recommended.meme experiments_single/fasta/promoter_m200_p50/heart_1.fa\n",
      "fimo --qv-thresh --o experiments_single/fimo/qv-thres/kidney_1 transfac2021_vertebrate_recommended.meme experiments_single/fasta/promoter_m200_p50/kidney_1.fa\n",
      "fimo --qv-thresh --o experiments_single/fimo/qv-thres/kidney_2 transfac2021_vertebrate_recommended.meme experiments_single/fasta/promoter_m200_p50/kidney_2.fa\n",
      "fimo --qv-thresh --o experiments_single/fimo/qv-thres/large_intestine_1 transfac2021_vertebrate_recommended.meme experiments_single/fasta/promoter_m200_p50/large_intestine_1.fa\n",
      "fimo --qv-thresh --o experiments_single/fimo/qv-thres/large_intestine_2 transfac2021_vertebrate_recommended.meme experiments_single/fasta/promoter_m200_p50/large_intestine_2.fa\n",
      "fimo --qv-thresh --o experiments_single/fimo/qv-thres/liver_1 transfac2021_vertebrate_recommended.meme experiments_single/fasta/promoter_m200_p50/liver_1.fa\n",
      "fimo --qv-thresh --o experiments_single/fimo/qv-thres/liver_2 transfac2021_vertebrate_recommended.meme experiments_single/fasta/promoter_m200_p50/liver_2.fa\n",
      "fimo --qv-thresh --o experiments_single/fimo/qv-thres/liver_3 transfac2021_vertebrate_recommended.meme experiments_single/fasta/promoter_m200_p50/liver_3.fa\n",
      "fimo --qv-thresh --o experiments_single/fimo/qv-thres/lung_1 transfac2021_vertebrate_recommended.meme experiments_single/fasta/promoter_m200_p50/lung_1.fa\n",
      "fimo --qv-thresh --o experiments_single/fimo/qv-thres/lung_2 transfac2021_vertebrate_recommended.meme experiments_single/fasta/promoter_m200_p50/lung_2.fa\n",
      "fimo --qv-thresh --o experiments_single/fimo/qv-thres/lung_3 transfac2021_vertebrate_recommended.meme experiments_single/fasta/promoter_m200_p50/lung_3.fa\n",
      "fimo --qv-thresh --o experiments_single/fimo/qv-thres/lung_4 transfac2021_vertebrate_recommended.meme experiments_single/fasta/promoter_m200_p50/lung_4.fa\n",
      "fimo --qv-thresh --o experiments_single/fimo/qv-thres/mammary_gland_1 transfac2021_vertebrate_recommended.meme experiments_single/fasta/promoter_m200_p50/mammary_gland_1.fa\n",
      "fimo --qv-thresh --o experiments_single/fimo/qv-thres/muscle_1 transfac2021_vertebrate_recommended.meme experiments_single/fasta/promoter_m200_p50/muscle_1.fa\n",
      "fimo --qv-thresh --o experiments_single/fimo/qv-thres/occipital_lobe_1 transfac2021_vertebrate_recommended.meme experiments_single/fasta/promoter_m200_p50/occipital_lobe_1.fa\n",
      "fimo --qv-thresh --o experiments_single/fimo/qv-thres/pancreas_1 transfac2021_vertebrate_recommended.meme experiments_single/fasta/promoter_m200_p50/pancreas_1.fa\n",
      "fimo --qv-thresh --o experiments_single/fimo/qv-thres/parietal_lobe_1 transfac2021_vertebrate_recommended.meme experiments_single/fasta/promoter_m200_p50/parietal_lobe_1.fa\n",
      "fimo --qv-thresh --o experiments_single/fimo/qv-thres/prostate_gland_1 transfac2021_vertebrate_recommended.meme experiments_single/fasta/promoter_m200_p50/prostate_gland_1.fa\n",
      "fimo --qv-thresh --o experiments_single/fimo/qv-thres/rectum_1 transfac2021_vertebrate_recommended.meme experiments_single/fasta/promoter_m200_p50/rectum_1.fa\n",
      "fimo --qv-thresh --o experiments_single/fimo/qv-thres/rectum_2 transfac2021_vertebrate_recommended.meme experiments_single/fasta/promoter_m200_p50/rectum_2.fa\n",
      "fimo --qv-thresh --o experiments_single/fimo/qv-thres/renal_artery_1 transfac2021_vertebrate_recommended.meme experiments_single/fasta/promoter_m200_p50/renal_artery_1.fa\n",
      "fimo --qv-thresh --o experiments_single/fimo/qv-thres/skin_1 transfac2021_vertebrate_recommended.meme experiments_single/fasta/promoter_m200_p50/skin_1.fa\n",
      "fimo --qv-thresh --o experiments_single/fimo/qv-thres/skin_2 transfac2021_vertebrate_recommended.meme experiments_single/fasta/promoter_m200_p50/skin_2.fa\n",
      "fimo --qv-thresh --o experiments_single/fimo/qv-thres/small_intestine_1 transfac2021_vertebrate_recommended.meme experiments_single/fasta/promoter_m200_p50/small_intestine_1.fa\n",
      "fimo --qv-thresh --o experiments_single/fimo/qv-thres/spleen_1 transfac2021_vertebrate_recommended.meme experiments_single/fasta/promoter_m200_p50/spleen_1.fa\n",
      "fimo --qv-thresh --o experiments_single/fimo/qv-thres/testis_1 transfac2021_vertebrate_recommended.meme experiments_single/fasta/promoter_m200_p50/testis_1.fa\n",
      "fimo --qv-thresh --o experiments_single/fimo/qv-thres/thymus_1 transfac2021_vertebrate_recommended.meme experiments_single/fasta/promoter_m200_p50/thymus_1.fa\n",
      "fimo --qv-thresh --o experiments_single/fimo/qv-thres/undefined_1 transfac2021_vertebrate_recommended.meme experiments_single/fasta/promoter_m200_p50/undefined_1.fa\n",
      "fimo --qv-thresh --o experiments_single/fimo/qv-thres/undefined_2 transfac2021_vertebrate_recommended.meme experiments_single/fasta/promoter_m200_p50/undefined_2.fa\n",
      "fimo --qv-thresh --o experiments_single/fimo/qv-thres/undefined_3 transfac2021_vertebrate_recommended.meme experiments_single/fasta/promoter_m200_p50/undefined_3.fa\n",
      "fimo --qv-thresh --o experiments_single/fimo/qv-thres/ureter_1 transfac2021_vertebrate_recommended.meme experiments_single/fasta/promoter_m200_p50/ureter_1.fa\n",
      "fimo --qv-thresh --o experiments_single/fimo/qv-thres/urinary_bladder_1 transfac2021_vertebrate_recommended.meme experiments_single/fasta/promoter_m200_p50/urinary_bladder_1.fa\n"
     ]
    }
   ],
   "source": [
    "# fimo files with q-value threshold\n",
    "\n",
    "for (i in 1:length(tissues)) {\n",
    "    system(\n",
    "        paste(\"fimo --qv-thresh --o experiments_single_2/fimo/qv-thres/\", \n",
    "              tissues[i], \" transfac2021_vertebrate_recommended.meme experiments_single/fasta/promoter_m200_p50/\", \n",
    "              tissues[i], \".fa\", \"\\n\", sep=\"\"), intern = TRUE)\n",
    "    }"
   ]
  },
  {
   "cell_type": "code",
   "execution_count": 79,
   "id": "68f7d3d9-036d-4b9e-a42d-e4bf84d8418f",
   "metadata": {
    "collapsed": true,
    "jupyter": {
     "outputs_hidden": true
    },
    "tags": []
   },
   "outputs": [
    {
     "name": "stdout",
     "output_type": "stream",
     "text": [
      "fimo --o experiments_single/fimo/pv-thres/adipose_1 transfac2021_vertebrate_recommended.meme experiments_single/fasta/promoter_m200_p50/adipose_1.fa\n",
      "fimo --o experiments_single/fimo/pv-thres/adipose_2 transfac2021_vertebrate_recommended.meme experiments_single/fasta/promoter_m200_p50/adipose_2.fa\n",
      "fimo --o experiments_single/fimo/pv-thres/adipose_3 transfac2021_vertebrate_recommended.meme experiments_single/fasta/promoter_m200_p50/adipose_3.fa\n",
      "fimo --o experiments_single/fimo/pv-thres/adipose_4 transfac2021_vertebrate_recommended.meme experiments_single/fasta/promoter_m200_p50/adipose_4.fa\n",
      "fimo --o experiments_single/fimo/pv-thres/adrenal_gland_1 transfac2021_vertebrate_recommended.meme experiments_single/fasta/promoter_m200_p50/adrenal_gland_1.fa\n",
      "fimo --o experiments_single/fimo/pv-thres/adrenal_gland_2 transfac2021_vertebrate_recommended.meme experiments_single/fasta/promoter_m200_p50/adrenal_gland_2.fa\n",
      "fimo --o experiments_single/fimo/pv-thres/adrenal_gland_3 transfac2021_vertebrate_recommended.meme experiments_single/fasta/promoter_m200_p50/adrenal_gland_3.fa\n",
      "fimo --o experiments_single/fimo/pv-thres/blood_1 transfac2021_vertebrate_recommended.meme experiments_single/fasta/promoter_m200_p50/blood_1.fa\n",
      "fimo --o experiments_single/fimo/pv-thres/blood_10 transfac2021_vertebrate_recommended.meme experiments_single/fasta/promoter_m200_p50/blood_10.fa\n",
      "fimo --o experiments_single/fimo/pv-thres/blood_11 transfac2021_vertebrate_recommended.meme experiments_single/fasta/promoter_m200_p50/blood_11.fa\n",
      "fimo --o experiments_single/fimo/pv-thres/blood_12 transfac2021_vertebrate_recommended.meme experiments_single/fasta/promoter_m200_p50/blood_12.fa\n",
      "fimo --o experiments_single/fimo/pv-thres/blood_13 transfac2021_vertebrate_recommended.meme experiments_single/fasta/promoter_m200_p50/blood_13.fa\n",
      "fimo --o experiments_single/fimo/pv-thres/blood_14 transfac2021_vertebrate_recommended.meme experiments_single/fasta/promoter_m200_p50/blood_14.fa\n",
      "fimo --o experiments_single/fimo/pv-thres/blood_15 transfac2021_vertebrate_recommended.meme experiments_single/fasta/promoter_m200_p50/blood_15.fa\n",
      "fimo --o experiments_single/fimo/pv-thres/blood_16 transfac2021_vertebrate_recommended.meme experiments_single/fasta/promoter_m200_p50/blood_16.fa\n",
      "fimo --o experiments_single/fimo/pv-thres/blood_17 transfac2021_vertebrate_recommended.meme experiments_single/fasta/promoter_m200_p50/blood_17.fa\n",
      "fimo --o experiments_single/fimo/pv-thres/blood_18 transfac2021_vertebrate_recommended.meme experiments_single/fasta/promoter_m200_p50/blood_18.fa\n",
      "fimo --o experiments_single/fimo/pv-thres/blood_19 transfac2021_vertebrate_recommended.meme experiments_single/fasta/promoter_m200_p50/blood_19.fa\n",
      "fimo --o experiments_single/fimo/pv-thres/blood_2 transfac2021_vertebrate_recommended.meme experiments_single/fasta/promoter_m200_p50/blood_2.fa\n",
      "fimo --o experiments_single/fimo/pv-thres/blood_20 transfac2021_vertebrate_recommended.meme experiments_single/fasta/promoter_m200_p50/blood_20.fa\n",
      "fimo --o experiments_single/fimo/pv-thres/blood_21 transfac2021_vertebrate_recommended.meme experiments_single/fasta/promoter_m200_p50/blood_21.fa\n",
      "fimo --o experiments_single/fimo/pv-thres/blood_22 transfac2021_vertebrate_recommended.meme experiments_single/fasta/promoter_m200_p50/blood_22.fa\n",
      "fimo --o experiments_single/fimo/pv-thres/blood_23 transfac2021_vertebrate_recommended.meme experiments_single/fasta/promoter_m200_p50/blood_23.fa\n",
      "fimo --o experiments_single/fimo/pv-thres/blood_24 transfac2021_vertebrate_recommended.meme experiments_single/fasta/promoter_m200_p50/blood_24.fa\n",
      "fimo --o experiments_single/fimo/pv-thres/blood_25 transfac2021_vertebrate_recommended.meme experiments_single/fasta/promoter_m200_p50/blood_25.fa\n",
      "fimo --o experiments_single/fimo/pv-thres/blood_26 transfac2021_vertebrate_recommended.meme experiments_single/fasta/promoter_m200_p50/blood_26.fa\n",
      "fimo --o experiments_single/fimo/pv-thres/blood_27 transfac2021_vertebrate_recommended.meme experiments_single/fasta/promoter_m200_p50/blood_27.fa\n",
      "fimo --o experiments_single/fimo/pv-thres/blood_28 transfac2021_vertebrate_recommended.meme experiments_single/fasta/promoter_m200_p50/blood_28.fa\n",
      "fimo --o experiments_single/fimo/pv-thres/blood_29 transfac2021_vertebrate_recommended.meme experiments_single/fasta/promoter_m200_p50/blood_29.fa\n",
      "fimo --o experiments_single/fimo/pv-thres/blood_3 transfac2021_vertebrate_recommended.meme experiments_single/fasta/promoter_m200_p50/blood_3.fa\n",
      "fimo --o experiments_single/fimo/pv-thres/blood_30 transfac2021_vertebrate_recommended.meme experiments_single/fasta/promoter_m200_p50/blood_30.fa\n",
      "fimo --o experiments_single/fimo/pv-thres/blood_4 transfac2021_vertebrate_recommended.meme experiments_single/fasta/promoter_m200_p50/blood_4.fa\n",
      "fimo --o experiments_single/fimo/pv-thres/blood_5 transfac2021_vertebrate_recommended.meme experiments_single/fasta/promoter_m200_p50/blood_5.fa\n",
      "fimo --o experiments_single/fimo/pv-thres/blood_6 transfac2021_vertebrate_recommended.meme experiments_single/fasta/promoter_m200_p50/blood_6.fa\n",
      "fimo --o experiments_single/fimo/pv-thres/blood_7 transfac2021_vertebrate_recommended.meme experiments_single/fasta/promoter_m200_p50/blood_7.fa\n",
      "fimo --o experiments_single/fimo/pv-thres/blood_8 transfac2021_vertebrate_recommended.meme experiments_single/fasta/promoter_m200_p50/blood_8.fa\n",
      "fimo --o experiments_single/fimo/pv-thres/blood_9 transfac2021_vertebrate_recommended.meme experiments_single/fasta/promoter_m200_p50/blood_9.fa\n",
      "fimo --o experiments_single/fimo/pv-thres/bone_marrow_1 transfac2021_vertebrate_recommended.meme experiments_single/fasta/promoter_m200_p50/bone_marrow_1.fa\n",
      "fimo --o experiments_single/fimo/pv-thres/brain_1 transfac2021_vertebrate_recommended.meme experiments_single/fasta/promoter_m200_p50/brain_1.fa\n",
      "fimo --o experiments_single/fimo/pv-thres/breast_1 transfac2021_vertebrate_recommended.meme experiments_single/fasta/promoter_m200_p50/breast_1.fa\n",
      "fimo --o experiments_single/fimo/pv-thres/cecum_1 transfac2021_vertebrate_recommended.meme experiments_single/fasta/promoter_m200_p50/cecum_1.fa\n",
      "fimo --o experiments_single/fimo/pv-thres/cecum_2 transfac2021_vertebrate_recommended.meme experiments_single/fasta/promoter_m200_p50/cecum_2.fa\n",
      "fimo --o experiments_single/fimo/pv-thres/cerebellum_1 transfac2021_vertebrate_recommended.meme experiments_single/fasta/promoter_m200_p50/cerebellum_1.fa\n",
      "fimo --o experiments_single/fimo/pv-thres/cerebrum_1 transfac2021_vertebrate_recommended.meme experiments_single/fasta/promoter_m200_p50/cerebrum_1.fa\n",
      "fimo --o experiments_single/fimo/pv-thres/colon_1 transfac2021_vertebrate_recommended.meme experiments_single/fasta/promoter_m200_p50/colon_1.fa\n",
      "fimo --o experiments_single/fimo/pv-thres/colon_2 transfac2021_vertebrate_recommended.meme experiments_single/fasta/promoter_m200_p50/colon_2.fa\n",
      "fimo --o experiments_single/fimo/pv-thres/colon_3 transfac2021_vertebrate_recommended.meme experiments_single/fasta/promoter_m200_p50/colon_3.fa\n",
      "fimo --o experiments_single/fimo/pv-thres/embryo_1 transfac2021_vertebrate_recommended.meme experiments_single/fasta/promoter_m200_p50/embryo_1.fa\n",
      "fimo --o experiments_single/fimo/pv-thres/epididymis_1 transfac2021_vertebrate_recommended.meme experiments_single/fasta/promoter_m200_p50/epididymis_1.fa\n",
      "fimo --o experiments_single/fimo/pv-thres/frontal_lobe_1 transfac2021_vertebrate_recommended.meme experiments_single/fasta/promoter_m200_p50/frontal_lobe_1.fa\n",
      "fimo --o experiments_single/fimo/pv-thres/heart_1 transfac2021_vertebrate_recommended.meme experiments_single/fasta/promoter_m200_p50/heart_1.fa\n",
      "fimo --o experiments_single/fimo/pv-thres/kidney_1 transfac2021_vertebrate_recommended.meme experiments_single/fasta/promoter_m200_p50/kidney_1.fa\n",
      "fimo --o experiments_single/fimo/pv-thres/kidney_2 transfac2021_vertebrate_recommended.meme experiments_single/fasta/promoter_m200_p50/kidney_2.fa\n",
      "fimo --o experiments_single/fimo/pv-thres/large_intestine_1 transfac2021_vertebrate_recommended.meme experiments_single/fasta/promoter_m200_p50/large_intestine_1.fa\n",
      "fimo --o experiments_single/fimo/pv-thres/large_intestine_2 transfac2021_vertebrate_recommended.meme experiments_single/fasta/promoter_m200_p50/large_intestine_2.fa\n",
      "fimo --o experiments_single/fimo/pv-thres/liver_1 transfac2021_vertebrate_recommended.meme experiments_single/fasta/promoter_m200_p50/liver_1.fa\n",
      "fimo --o experiments_single/fimo/pv-thres/liver_2 transfac2021_vertebrate_recommended.meme experiments_single/fasta/promoter_m200_p50/liver_2.fa\n",
      "fimo --o experiments_single/fimo/pv-thres/liver_3 transfac2021_vertebrate_recommended.meme experiments_single/fasta/promoter_m200_p50/liver_3.fa\n",
      "fimo --o experiments_single/fimo/pv-thres/lung_1 transfac2021_vertebrate_recommended.meme experiments_single/fasta/promoter_m200_p50/lung_1.fa\n",
      "fimo --o experiments_single/fimo/pv-thres/lung_2 transfac2021_vertebrate_recommended.meme experiments_single/fasta/promoter_m200_p50/lung_2.fa\n",
      "fimo --o experiments_single/fimo/pv-thres/lung_3 transfac2021_vertebrate_recommended.meme experiments_single/fasta/promoter_m200_p50/lung_3.fa\n",
      "fimo --o experiments_single/fimo/pv-thres/lung_4 transfac2021_vertebrate_recommended.meme experiments_single/fasta/promoter_m200_p50/lung_4.fa\n",
      "fimo --o experiments_single/fimo/pv-thres/mammary_gland_1 transfac2021_vertebrate_recommended.meme experiments_single/fasta/promoter_m200_p50/mammary_gland_1.fa\n",
      "fimo --o experiments_single/fimo/pv-thres/muscle_1 transfac2021_vertebrate_recommended.meme experiments_single/fasta/promoter_m200_p50/muscle_1.fa\n",
      "fimo --o experiments_single/fimo/pv-thres/occipital_lobe_1 transfac2021_vertebrate_recommended.meme experiments_single/fasta/promoter_m200_p50/occipital_lobe_1.fa\n",
      "fimo --o experiments_single/fimo/pv-thres/pancreas_1 transfac2021_vertebrate_recommended.meme experiments_single/fasta/promoter_m200_p50/pancreas_1.fa\n",
      "fimo --o experiments_single/fimo/pv-thres/parietal_lobe_1 transfac2021_vertebrate_recommended.meme experiments_single/fasta/promoter_m200_p50/parietal_lobe_1.fa\n",
      "fimo --o experiments_single/fimo/pv-thres/prostate_gland_1 transfac2021_vertebrate_recommended.meme experiments_single/fasta/promoter_m200_p50/prostate_gland_1.fa\n",
      "fimo --o experiments_single/fimo/pv-thres/rectum_1 transfac2021_vertebrate_recommended.meme experiments_single/fasta/promoter_m200_p50/rectum_1.fa\n",
      "fimo --o experiments_single/fimo/pv-thres/rectum_2 transfac2021_vertebrate_recommended.meme experiments_single/fasta/promoter_m200_p50/rectum_2.fa\n",
      "fimo --o experiments_single/fimo/pv-thres/renal_artery_1 transfac2021_vertebrate_recommended.meme experiments_single/fasta/promoter_m200_p50/renal_artery_1.fa\n",
      "fimo --o experiments_single/fimo/pv-thres/skin_1 transfac2021_vertebrate_recommended.meme experiments_single/fasta/promoter_m200_p50/skin_1.fa\n",
      "fimo --o experiments_single/fimo/pv-thres/skin_2 transfac2021_vertebrate_recommended.meme experiments_single/fasta/promoter_m200_p50/skin_2.fa\n",
      "fimo --o experiments_single/fimo/pv-thres/small_intestine_1 transfac2021_vertebrate_recommended.meme experiments_single/fasta/promoter_m200_p50/small_intestine_1.fa\n",
      "fimo --o experiments_single/fimo/pv-thres/spleen_1 transfac2021_vertebrate_recommended.meme experiments_single/fasta/promoter_m200_p50/spleen_1.fa\n",
      "fimo --o experiments_single/fimo/pv-thres/testis_1 transfac2021_vertebrate_recommended.meme experiments_single/fasta/promoter_m200_p50/testis_1.fa\n",
      "fimo --o experiments_single/fimo/pv-thres/thymus_1 transfac2021_vertebrate_recommended.meme experiments_single/fasta/promoter_m200_p50/thymus_1.fa\n",
      "fimo --o experiments_single/fimo/pv-thres/undefined_1 transfac2021_vertebrate_recommended.meme experiments_single/fasta/promoter_m200_p50/undefined_1.fa\n",
      "fimo --o experiments_single/fimo/pv-thres/undefined_2 transfac2021_vertebrate_recommended.meme experiments_single/fasta/promoter_m200_p50/undefined_2.fa\n",
      "fimo --o experiments_single/fimo/pv-thres/undefined_3 transfac2021_vertebrate_recommended.meme experiments_single/fasta/promoter_m200_p50/undefined_3.fa\n",
      "fimo --o experiments_single/fimo/pv-thres/ureter_1 transfac2021_vertebrate_recommended.meme experiments_single/fasta/promoter_m200_p50/ureter_1.fa\n",
      "fimo --o experiments_single/fimo/pv-thres/urinary_bladder_1 transfac2021_vertebrate_recommended.meme experiments_single/fasta/promoter_m200_p50/urinary_bladder_1.fa\n"
     ]
    }
   ],
   "source": [
    "# fimo files with p-value threshold\n",
    "\n",
    "for (i in 1:length(tissues)) {\n",
    "    system(\n",
    "        paste(\"fimo --o experiments_single_2/fimo/pv-thres/\", \n",
    "              tissues[i], \" transfac2021_vertebrate_recommended.meme experiments_single/fasta/promoter_m200_p50/\", \n",
    "              tissues[i], \".fa\", \"\\n\", sep=\"\"), intern = TRUE\n",
    "    }"
   ]
  },
  {
   "cell_type": "markdown",
   "id": "b2358117-d58a-42fc-a831-3f42bee12711",
   "metadata": {},
   "source": [
    "### 1.5 Collapse Overlapping Matches of same TF Binding Motif"
   ]
  },
  {
   "cell_type": "code",
   "execution_count": null,
   "id": "6f061836-febd-4f3c-8cc1-48cad550e862",
   "metadata": {},
   "outputs": [],
   "source": [
    "# set file paths fimo files pv threshold\n",
    "\n",
    "file_paths_fimo_pv <- list()\n",
    "\n",
    "for (tissue in tissues) {\n",
    "    file_path <- paste(\"experiments_single_2/fimo/pv-thres/\", tissue, \"/fimo.tsv\", sep=\"\")\n",
    "    file_paths_fimo_pv[[tissue]] <- file_path\n",
    "}\n",
    "\n",
    "# collapse overlapping sequences\n",
    "\n",
    "collapse_fimo_function(tissues, file_paths_fimo_pv)"
   ]
  },
  {
   "cell_type": "markdown",
   "id": "12d3554c-0778-4f54-9d18-8878ff42a81f",
   "metadata": {},
   "source": [
    "## 2. Make Matrix TISSUES / TFs"
   ]
  },
  {
   "cell_type": "code",
   "execution_count": 92,
   "id": "a02479e0-8117-41eb-821c-dcb780b4ee01",
   "metadata": {
    "collapsed": true,
    "jupyter": {
     "outputs_hidden": true
    },
    "scrolled": true
   },
   "outputs": [
    {
     "name": "stdout",
     "output_type": "stream",
     "text": [
      "   motif_id\n",
      "1:     ACE2\n",
      "2:     ACE2\n",
      "3:     ACE2\n",
      "4:     ACE2\n",
      "5:     ACE2\n",
      "6:     ACE2\n",
      "\n",
      " ABL1 ACAAT  ACE2 AEBP2  AFP1 AHDC1 \n",
      "  384   681   971   784    63   171 \n"
     ]
    },
    {
     "name": "stderr",
     "output_type": "stream",
     "text": [
      "Warning message in df_tmp_tf$tissue <- tissues[i]:\n",
      "“Coercing LHS to a list”\n"
     ]
    },
    {
     "name": "stdout",
     "output_type": "stream",
     "text": [
      "   motif_id\n",
      "1:     ACE2\n",
      "2:     ACE2\n",
      "3:     ACE2\n",
      "4:     ACE2\n",
      "5:     ACE2\n",
      "6:     ACE2\n",
      "\n",
      " ABL1 ACAAT  ACE2 AEBP2  AFP1 AHDC1 \n",
      "  195   352   535   416    27    94 \n"
     ]
    },
    {
     "name": "stderr",
     "output_type": "stream",
     "text": [
      "Warning message in df_tmp_tf$tissue <- tissues[i]:\n",
      "“Coercing LHS to a list”\n"
     ]
    },
    {
     "name": "stdout",
     "output_type": "stream",
     "text": [
      "   motif_id\n",
      "1:     ACE2\n",
      "2:     ACE2\n",
      "3:     ACE2\n",
      "4:     ACE2\n",
      "5:     ACE2\n",
      "6:     ACE2\n",
      "\n",
      " ABL1 ACAAT  ACE2 AEBP2  AFP1 AHDC1 \n",
      "  170   318   513   360    33    82 \n"
     ]
    },
    {
     "name": "stderr",
     "output_type": "stream",
     "text": [
      "Warning message in df_tmp_tf$tissue <- tissues[i]:\n",
      "“Coercing LHS to a list”\n"
     ]
    },
    {
     "name": "stdout",
     "output_type": "stream",
     "text": [
      "   motif_id\n",
      "1:     ACE2\n",
      "2:     ACE2\n",
      "3:     ACE2\n",
      "4:     ACE2\n",
      "5:     ACE2\n",
      "6:     ACE2\n",
      "\n",
      " ABL1 ACAAT  ACE2 AEBP2  AFP1 AHDC1 \n",
      "  192   317   519   376    39   102 \n"
     ]
    },
    {
     "name": "stderr",
     "output_type": "stream",
     "text": [
      "Warning message in df_tmp_tf$tissue <- tissues[i]:\n",
      "“Coercing LHS to a list”\n"
     ]
    },
    {
     "name": "stdout",
     "output_type": "stream",
     "text": [
      "   motif_id\n",
      "1:     ACE2\n",
      "2:     ACE2\n",
      "3:     ACE2\n",
      "4:     ACE2\n",
      "5:     ACE2\n",
      "6:     ACE2\n",
      "\n",
      " ABL1 ACAAT  ACE2 AEBP2  AFP1 AHDC1 \n",
      "  428   819   914   849    56   135 \n"
     ]
    },
    {
     "name": "stderr",
     "output_type": "stream",
     "text": [
      "Warning message in df_tmp_tf$tissue <- tissues[i]:\n",
      "“Coercing LHS to a list”\n"
     ]
    },
    {
     "name": "stdout",
     "output_type": "stream",
     "text": [
      "   motif_id\n",
      "1:     ACE2\n",
      "2:     ACE2\n",
      "3:     ACE2\n",
      "4:     ACE2\n",
      "5:     ACE2\n",
      "6:     ACE2\n",
      "\n",
      " ABL1 ACAAT  ACE2 AEBP2  AFP1 AHDC1 \n",
      "  274   531   625   537    51   115 \n"
     ]
    },
    {
     "name": "stderr",
     "output_type": "stream",
     "text": [
      "Warning message in df_tmp_tf$tissue <- tissues[i]:\n",
      "“Coercing LHS to a list”\n"
     ]
    },
    {
     "name": "stdout",
     "output_type": "stream",
     "text": [
      "   motif_id\n",
      "1:     ACE2\n",
      "2:     ACE2\n",
      "3:     ACE2\n",
      "4:     ACE2\n",
      "5:     ACE2\n",
      "6:     ACE2\n",
      "\n",
      " ABL1 ACAAT  ACE2 AEBP2  AFP1 AHDC1 \n",
      "  323   384   625   378    67   163 \n"
     ]
    },
    {
     "name": "stderr",
     "output_type": "stream",
     "text": [
      "Warning message in df_tmp_tf$tissue <- tissues[i]:\n",
      "“Coercing LHS to a list”\n"
     ]
    },
    {
     "name": "stdout",
     "output_type": "stream",
     "text": [
      "   motif_id\n",
      "1:     ACE2\n",
      "2:     ACE2\n",
      "3:     ACE2\n",
      "4:     ACE2\n",
      "5:     ACE2\n",
      "6:     ACE2\n",
      "\n",
      " ABL1 ACAAT  ACE2 AEBP2  AFP1 AHDC1 \n",
      "  494  1067  1312  1159    61   148 \n"
     ]
    },
    {
     "name": "stderr",
     "output_type": "stream",
     "text": [
      "Warning message in df_tmp_tf$tissue <- tissues[i]:\n",
      "“Coercing LHS to a list”\n"
     ]
    },
    {
     "name": "stdout",
     "output_type": "stream",
     "text": [
      "   motif_id\n",
      "1:     ACE2\n",
      "2:     ACE2\n",
      "3:     ACE2\n",
      "4:     ACE2\n",
      "5:     ACE2\n",
      "6:     ACE2\n",
      "\n",
      " ABL1 ACAAT  ACE2 AEBP2  AFP1 AHDC1 \n",
      "  583  1206  1504  1253    74   188 \n"
     ]
    },
    {
     "name": "stderr",
     "output_type": "stream",
     "text": [
      "Warning message in df_tmp_tf$tissue <- tissues[i]:\n",
      "“Coercing LHS to a list”\n"
     ]
    },
    {
     "name": "stdout",
     "output_type": "stream",
     "text": [
      "   motif_id\n",
      "1:     ACE2\n",
      "2:     ACE2\n",
      "3:     ACE2\n",
      "4:     ACE2\n",
      "5:     ACE2\n",
      "6:     ACE2\n",
      "\n",
      " ABL1 ACAAT  ACE2 AEBP2  AFP1 AHDC1 \n",
      "  534  1057  1317  1179    72   185 \n"
     ]
    },
    {
     "name": "stderr",
     "output_type": "stream",
     "text": [
      "Warning message in df_tmp_tf$tissue <- tissues[i]:\n",
      "“Coercing LHS to a list”\n"
     ]
    },
    {
     "name": "stdout",
     "output_type": "stream",
     "text": [
      "   motif_id\n",
      "1:     ACE2\n",
      "2:     ACE2\n",
      "3:     ACE2\n",
      "4:     ACE2\n",
      "5:     ACE2\n",
      "6:     ACE2\n",
      "\n",
      " ABL1 ACAAT  ACE2 AEBP2  AFP1 AHDC1 \n",
      "  505   938  1261  1118    63   173 \n"
     ]
    },
    {
     "name": "stderr",
     "output_type": "stream",
     "text": [
      "Warning message in df_tmp_tf$tissue <- tissues[i]:\n",
      "“Coercing LHS to a list”\n"
     ]
    },
    {
     "name": "stdout",
     "output_type": "stream",
     "text": [
      "   motif_id\n",
      "1:     ACE2\n",
      "2:     ACE2\n",
      "3:     ACE2\n",
      "4:     ACE2\n",
      "5:     ACE2\n",
      "6:     ACE2\n",
      "\n",
      " ABL1 ACAAT  ACE2 AEBP2  AFP1 AHDC1 \n",
      "  504  1046  1327  1142    64   167 \n"
     ]
    },
    {
     "name": "stderr",
     "output_type": "stream",
     "text": [
      "Warning message in df_tmp_tf$tissue <- tissues[i]:\n",
      "“Coercing LHS to a list”\n"
     ]
    },
    {
     "name": "stdout",
     "output_type": "stream",
     "text": [
      "   motif_id\n",
      "1:     ACE2\n",
      "2:     ACE2\n",
      "3:     ACE2\n",
      "4:     ACE2\n",
      "5:     ACE2\n",
      "6:     ACE2\n",
      "\n",
      " ABL1 ACAAT  ACE2 AEBP2  AFP1 AHDC1 \n",
      "  581  1157  1499  1333    74   205 \n"
     ]
    },
    {
     "name": "stderr",
     "output_type": "stream",
     "text": [
      "Warning message in df_tmp_tf$tissue <- tissues[i]:\n",
      "“Coercing LHS to a list”\n"
     ]
    },
    {
     "name": "stdout",
     "output_type": "stream",
     "text": [
      "   motif_id\n",
      "1:     ACE2\n",
      "2:     ACE2\n",
      "3:     ACE2\n",
      "4:     ACE2\n",
      "5:     ACE2\n",
      "6:     ACE2\n",
      "\n",
      " ABL1 ACAAT  ACE2 AEBP2  AFP1 AHDC1 \n",
      "  671  1281  1598  1370    96   204 \n"
     ]
    },
    {
     "name": "stderr",
     "output_type": "stream",
     "text": [
      "Warning message in df_tmp_tf$tissue <- tissues[i]:\n",
      "“Coercing LHS to a list”\n"
     ]
    },
    {
     "name": "stdout",
     "output_type": "stream",
     "text": [
      "   motif_id\n",
      "1:     ACE2\n",
      "2:     ACE2\n",
      "3:     ACE2\n",
      "4:     ACE2\n",
      "5:     ACE2\n",
      "6:     ACE2\n",
      "\n",
      " ABL1 ACAAT  ACE2 AEBP2  AFP1 AHDC1 \n",
      "  671  1326  1658  1399    99   220 \n"
     ]
    },
    {
     "name": "stderr",
     "output_type": "stream",
     "text": [
      "Warning message in df_tmp_tf$tissue <- tissues[i]:\n",
      "“Coercing LHS to a list”\n"
     ]
    },
    {
     "name": "stdout",
     "output_type": "stream",
     "text": [
      "   motif_id\n",
      "1:     ACE2\n",
      "2:     ACE2\n",
      "3:     ACE2\n",
      "4:     ACE2\n",
      "5:     ACE2\n",
      "6:     ACE2\n",
      "\n",
      " ABL1 ACAAT  ACE2 AEBP2  AFP1 AHDC1 \n",
      "  766  1390  1800  1535   113   252 \n"
     ]
    },
    {
     "name": "stderr",
     "output_type": "stream",
     "text": [
      "Warning message in df_tmp_tf$tissue <- tissues[i]:\n",
      "“Coercing LHS to a list”\n"
     ]
    },
    {
     "name": "stdout",
     "output_type": "stream",
     "text": [
      "   motif_id\n",
      "1:     ACE2\n",
      "2:     ACE2\n",
      "3:     ACE2\n",
      "4:     ACE2\n",
      "5:     ACE2\n",
      "6:     ACE2\n",
      "\n",
      " ABL1 ACAAT  ACE2 AEBP2  AFP1 AHDC1 \n",
      "  825  1405  1851  1542   124   300 \n"
     ]
    },
    {
     "name": "stderr",
     "output_type": "stream",
     "text": [
      "Warning message in df_tmp_tf$tissue <- tissues[i]:\n",
      "“Coercing LHS to a list”\n"
     ]
    },
    {
     "name": "stdout",
     "output_type": "stream",
     "text": [
      "   motif_id\n",
      "1:     ACE2\n",
      "2:     ACE2\n",
      "3:     ACE2\n",
      "4:     ACE2\n",
      "5:     ACE2\n",
      "6:     ACE2\n",
      "\n",
      " ABL1 ACAAT  ACE2 AEBP2  AFP1 AHDC1 \n",
      "  251   616   683   597    34    82 \n"
     ]
    },
    {
     "name": "stderr",
     "output_type": "stream",
     "text": [
      "Warning message in df_tmp_tf$tissue <- tissues[i]:\n",
      "“Coercing LHS to a list”\n"
     ]
    },
    {
     "name": "stdout",
     "output_type": "stream",
     "text": [
      "   motif_id\n",
      "1:     ACE2\n",
      "2:     ACE2\n",
      "3:     ACE2\n",
      "4:     ACE2\n",
      "5:     ACE2\n",
      "6:     ACE2\n",
      "\n",
      " ABL1 ACAAT  ACE2 AEBP2  AFP1 AHDC1 \n",
      "  724  1312  1720  1445   110   251 \n"
     ]
    },
    {
     "name": "stderr",
     "output_type": "stream",
     "text": [
      "Warning message in df_tmp_tf$tissue <- tissues[i]:\n",
      "“Coercing LHS to a list”\n"
     ]
    },
    {
     "name": "stdout",
     "output_type": "stream",
     "text": [
      "   motif_id\n",
      "1:     ACE2\n",
      "2:     ACE2\n",
      "3:     ACE2\n",
      "4:     ACE2\n",
      "5:     ACE2\n",
      "6:     ACE2\n",
      "\n",
      " ABL1 ACAAT  ACE2 AEBP2  AFP1 AHDC1 \n",
      "  563  1186  1506  1302    85   197 \n"
     ]
    },
    {
     "name": "stderr",
     "output_type": "stream",
     "text": [
      "Warning message in df_tmp_tf$tissue <- tissues[i]:\n",
      "“Coercing LHS to a list”\n"
     ]
    },
    {
     "name": "stdout",
     "output_type": "stream",
     "text": [
      "   motif_id\n",
      "1:     ACE2\n",
      "2:     ACE2\n",
      "3:     ACE2\n",
      "4:     ACE2\n",
      "5:     ACE2\n",
      "6:     ACE2\n",
      "\n",
      " ABL1 ACAAT  ACE2 AEBP2  AFP1 AHDC1 \n",
      "  512  1009  1322  1131    62   158 \n"
     ]
    },
    {
     "name": "stderr",
     "output_type": "stream",
     "text": [
      "Warning message in df_tmp_tf$tissue <- tissues[i]:\n",
      "“Coercing LHS to a list”\n"
     ]
    },
    {
     "name": "stdout",
     "output_type": "stream",
     "text": [
      "   motif_id\n",
      "1:     ACE2\n",
      "2:     ACE2\n",
      "3:     ACE2\n",
      "4:     ACE2\n",
      "5:     ACE2\n",
      "6:     ACE2\n",
      "\n",
      " ABL1 ACAAT  ACE2 AEBP2  AFP1 AHDC1 \n",
      "  549  1065  1376  1186    85   197 \n"
     ]
    },
    {
     "name": "stderr",
     "output_type": "stream",
     "text": [
      "Warning message in df_tmp_tf$tissue <- tissues[i]:\n",
      "“Coercing LHS to a list”\n"
     ]
    },
    {
     "name": "stdout",
     "output_type": "stream",
     "text": [
      "   motif_id\n",
      "1:     ACE2\n",
      "2:     ACE2\n",
      "3:     ACE2\n",
      "4:     ACE2\n",
      "5:     ACE2\n",
      "6:     ACE2\n",
      "\n",
      " ABL1 ACAAT  ACE2 AEBP2  AFP1 AHDC1 \n",
      "  526  1020  1358  1154    80   181 \n"
     ]
    },
    {
     "name": "stderr",
     "output_type": "stream",
     "text": [
      "Warning message in df_tmp_tf$tissue <- tissues[i]:\n",
      "“Coercing LHS to a list”\n"
     ]
    },
    {
     "name": "stdout",
     "output_type": "stream",
     "text": [
      "   motif_id\n",
      "1:     ACE2\n",
      "2:     ACE2\n",
      "3:     ACE2\n",
      "4:     ACE2\n",
      "5:     ACE2\n",
      "6:     ACE2\n",
      "\n",
      " ABL1 ACAAT  ACE2 AEBP2  AFP1 AHDC1 \n",
      "  475   943  1179  1016    71   151 \n"
     ]
    },
    {
     "name": "stderr",
     "output_type": "stream",
     "text": [
      "Warning message in df_tmp_tf$tissue <- tissues[i]:\n",
      "“Coercing LHS to a list”\n"
     ]
    },
    {
     "name": "stdout",
     "output_type": "stream",
     "text": [
      "   motif_id\n",
      "1:     ACE2\n",
      "2:     ACE2\n",
      "3:     ACE2\n",
      "4:     ACE2\n",
      "5:     ACE2\n",
      "6:     ACE2\n",
      "\n",
      " ABL1 ACAAT  ACE2 AEBP2  AFP1 AHDC1 \n",
      "  458   861  1132   971    66   135 \n"
     ]
    },
    {
     "name": "stderr",
     "output_type": "stream",
     "text": [
      "Warning message in df_tmp_tf$tissue <- tissues[i]:\n",
      "“Coercing LHS to a list”\n"
     ]
    },
    {
     "name": "stdout",
     "output_type": "stream",
     "text": [
      "   motif_id\n",
      "1:     ACE2\n",
      "2:     ACE2\n",
      "3:     ACE2\n",
      "4:     ACE2\n",
      "5:     ACE2\n",
      "6:     ACE2\n",
      "\n",
      " ABL1 ACAAT  ACE2 AEBP2  AFP1 AHDC1 \n",
      "  787  1387  1892  1526   122   268 \n"
     ]
    },
    {
     "name": "stderr",
     "output_type": "stream",
     "text": [
      "Warning message in df_tmp_tf$tissue <- tissues[i]:\n",
      "“Coercing LHS to a list”\n"
     ]
    },
    {
     "name": "stdout",
     "output_type": "stream",
     "text": [
      "   motif_id\n",
      "1:     ACE2\n",
      "2:     ACE2\n",
      "3:     ACE2\n",
      "4:     ACE2\n",
      "5:     ACE2\n",
      "6:     ACE2\n",
      "\n",
      " ABL1 ACAAT  ACE2 AEBP2  AFP1 AHDC1 \n",
      "  550  1025  1326  1147    86   188 \n"
     ]
    },
    {
     "name": "stderr",
     "output_type": "stream",
     "text": [
      "Warning message in df_tmp_tf$tissue <- tissues[i]:\n",
      "“Coercing LHS to a list”\n"
     ]
    },
    {
     "name": "stdout",
     "output_type": "stream",
     "text": [
      "   motif_id\n",
      "1:     ACE2\n",
      "2:     ACE2\n",
      "3:     ACE2\n",
      "4:     ACE2\n",
      "5:     ACE2\n",
      "6:     ACE2\n",
      "\n",
      " ABL1 ACAAT  ACE2 AEBP2  AFP1 AHDC1 \n",
      "  565  1048  1427  1210    83   191 \n"
     ]
    },
    {
     "name": "stderr",
     "output_type": "stream",
     "text": [
      "Warning message in df_tmp_tf$tissue <- tissues[i]:\n",
      "“Coercing LHS to a list”\n"
     ]
    },
    {
     "name": "stdout",
     "output_type": "stream",
     "text": [
      "   motif_id\n",
      "1:     ACE2\n",
      "2:     ACE2\n",
      "3:     ACE2\n",
      "4:     ACE2\n",
      "5:     ACE2\n",
      "6:     ACE2\n",
      "\n",
      " ABL1 ACAAT  ACE2 AEBP2  AFP1 AHDC1 \n",
      "  529   933  1157  1058    81   170 \n"
     ]
    },
    {
     "name": "stderr",
     "output_type": "stream",
     "text": [
      "Warning message in df_tmp_tf$tissue <- tissues[i]:\n",
      "“Coercing LHS to a list”\n"
     ]
    },
    {
     "name": "stdout",
     "output_type": "stream",
     "text": [
      "   motif_id\n",
      "1:     ACE2\n",
      "2:     ACE2\n",
      "3:     ACE2\n",
      "4:     ACE2\n",
      "5:     ACE2\n",
      "6:     ACE2\n",
      "\n",
      " ABL1 ACAAT  ACE2 AEBP2  AFP1 AHDC1 \n",
      "  498  1032  1277  1126    76   169 \n"
     ]
    },
    {
     "name": "stderr",
     "output_type": "stream",
     "text": [
      "Warning message in df_tmp_tf$tissue <- tissues[i]:\n",
      "“Coercing LHS to a list”\n"
     ]
    },
    {
     "name": "stdout",
     "output_type": "stream",
     "text": [
      "   motif_id\n",
      "1:     ACE2\n",
      "2:     ACE2\n",
      "3:     ACE2\n",
      "4:     ACE2\n",
      "5:     ACE2\n",
      "6:     ACE2\n",
      "\n",
      " ABL1 ACAAT  ACE2 AEBP2  AFP1 AHDC1 \n",
      "  432   807  1045   917    54   134 \n"
     ]
    },
    {
     "name": "stderr",
     "output_type": "stream",
     "text": [
      "Warning message in df_tmp_tf$tissue <- tissues[i]:\n",
      "“Coercing LHS to a list”\n"
     ]
    },
    {
     "name": "stdout",
     "output_type": "stream",
     "text": [
      "   motif_id\n",
      "1:     ACE2\n",
      "2:     ACE2\n",
      "3:     ACE2\n",
      "4:     ACE2\n",
      "5:     ACE2\n",
      "6:     ACE2\n",
      "\n",
      " ABL1 ACAAT  ACE2 AEBP2  AFP1 AHDC1 \n",
      "  524  1254  1581  1343    62   159 \n"
     ]
    },
    {
     "name": "stderr",
     "output_type": "stream",
     "text": [
      "Warning message in df_tmp_tf$tissue <- tissues[i]:\n",
      "“Coercing LHS to a list”\n"
     ]
    },
    {
     "name": "stdout",
     "output_type": "stream",
     "text": [
      "   motif_id\n",
      "1:     ACE2\n",
      "2:     ACE2\n",
      "3:     ACE2\n",
      "4:     ACE2\n",
      "5:     ACE2\n",
      "6:     ACE2\n",
      "\n",
      " ABL1 ACAAT  ACE2 AEBP2  AFP1 AHDC1 \n",
      "  554  1255  1577  1381    65   185 \n"
     ]
    },
    {
     "name": "stderr",
     "output_type": "stream",
     "text": [
      "Warning message in df_tmp_tf$tissue <- tissues[i]:\n",
      "“Coercing LHS to a list”\n"
     ]
    },
    {
     "name": "stdout",
     "output_type": "stream",
     "text": [
      "   motif_id\n",
      "1:     ACE2\n",
      "2:     ACE2\n",
      "3:     ACE2\n",
      "4:     ACE2\n",
      "5:     ACE2\n",
      "6:     ACE2\n",
      "\n",
      " ABL1 ACAAT  ACE2 AEBP2  AFP1 AHDC1 \n",
      "  324   777   962   875    38   102 \n"
     ]
    },
    {
     "name": "stderr",
     "output_type": "stream",
     "text": [
      "Warning message in df_tmp_tf$tissue <- tissues[i]:\n",
      "“Coercing LHS to a list”\n"
     ]
    },
    {
     "name": "stdout",
     "output_type": "stream",
     "text": [
      "   motif_id\n",
      "1:     ACE2\n",
      "2:     ACE2\n",
      "3:     ACE2\n",
      "4:     ACE2\n",
      "5:     ACE2\n",
      "6:     ACE2\n",
      "\n",
      " ABL1 ACAAT  ACE2 AEBP2  AFP1 AHDC1 \n",
      "  505  1148  1470  1350    59   175 \n"
     ]
    },
    {
     "name": "stderr",
     "output_type": "stream",
     "text": [
      "Warning message in df_tmp_tf$tissue <- tissues[i]:\n",
      "“Coercing LHS to a list”\n"
     ]
    },
    {
     "name": "stdout",
     "output_type": "stream",
     "text": [
      "   motif_id\n",
      "1:     ACE2\n",
      "2:     ACE2\n",
      "3:     ACE2\n",
      "4:     ACE2\n",
      "5:     ACE2\n",
      "6:     ACE2\n",
      "\n",
      " ABL1 ACAAT  ACE2 AEBP2  AFP1 AHDC1 \n",
      "  397   920  1211  1075    42   125 \n"
     ]
    },
    {
     "name": "stderr",
     "output_type": "stream",
     "text": [
      "Warning message in df_tmp_tf$tissue <- tissues[i]:\n",
      "“Coercing LHS to a list”\n"
     ]
    },
    {
     "name": "stdout",
     "output_type": "stream",
     "text": [
      "   motif_id\n",
      "1:     ACE2\n",
      "2:     ACE2\n",
      "3:     ACE2\n",
      "4:     ACE2\n",
      "5:     ACE2\n",
      "6:     ACE2\n",
      "\n",
      " ABL1 ACAAT  ACE2 AEBP2  AFP1 AHDC1 \n",
      "  286   759   986   889    36    98 \n"
     ]
    },
    {
     "name": "stderr",
     "output_type": "stream",
     "text": [
      "Warning message in df_tmp_tf$tissue <- tissues[i]:\n",
      "“Coercing LHS to a list”\n"
     ]
    },
    {
     "name": "stdout",
     "output_type": "stream",
     "text": [
      "   motif_id\n",
      "1:     ACE2\n",
      "2:     ACE2\n",
      "3:     ACE2\n",
      "4:     ACE2\n",
      "5:     ACE2\n",
      "6:     ACE2\n",
      "\n",
      " ABL1 ACAAT  ACE2 AEBP2  AFP1 AHDC1 \n",
      "  481   925  1207  1126    88   152 \n"
     ]
    },
    {
     "name": "stderr",
     "output_type": "stream",
     "text": [
      "Warning message in df_tmp_tf$tissue <- tissues[i]:\n",
      "“Coercing LHS to a list”\n"
     ]
    },
    {
     "name": "stdout",
     "output_type": "stream",
     "text": [
      "   motif_id\n",
      "1:     ACE2\n",
      "2:     ACE2\n",
      "3:     ACE2\n",
      "4:     ACE2\n",
      "5:     ACE2\n",
      "6:     ACE2\n",
      "\n",
      " ABL1 ACAAT  ACE2 AEBP2  AFP1 AHDC1 \n",
      "  628  1144  1446  1227   162   230 \n"
     ]
    },
    {
     "name": "stderr",
     "output_type": "stream",
     "text": [
      "Warning message in df_tmp_tf$tissue <- tissues[i]:\n",
      "“Coercing LHS to a list”\n"
     ]
    },
    {
     "name": "stdout",
     "output_type": "stream",
     "text": [
      "   motif_id\n",
      "1:     ACE2\n",
      "2:     ACE2\n",
      "3:     ACE2\n",
      "4:     ACE2\n",
      "5:     ACE2\n",
      "6:     ACE2\n",
      "\n",
      " ABL1 ACAAT  ACE2 AEBP2  AFP1 AHDC1 \n",
      "  119   318   403   433    13    45 \n"
     ]
    },
    {
     "name": "stderr",
     "output_type": "stream",
     "text": [
      "Warning message in df_tmp_tf$tissue <- tissues[i]:\n",
      "“Coercing LHS to a list”\n"
     ]
    },
    {
     "name": "stdout",
     "output_type": "stream",
     "text": [
      "   motif_id\n",
      "1:     ACE2\n",
      "2:     ACE2\n",
      "3:     ACE2\n",
      "4:     ACE2\n",
      "5:     ACE2\n",
      "6:     ACE2\n",
      "\n",
      " ABL1 ACAAT  ACE2 AEBP2  AFP1 AHDC1 \n",
      "  454   921  1253  1013    78   209 \n"
     ]
    },
    {
     "name": "stderr",
     "output_type": "stream",
     "text": [
      "Warning message in df_tmp_tf$tissue <- tissues[i]:\n",
      "“Coercing LHS to a list”\n"
     ]
    },
    {
     "name": "stdout",
     "output_type": "stream",
     "text": [
      "   motif_id\n",
      "1:     ACE2\n",
      "2:     ACE2\n",
      "3:     ACE2\n",
      "4:     ACE2\n",
      "5:     ACE2\n",
      "6:     ACE2\n",
      "\n",
      " ABL1 ACAAT  ACE2 AEBP2  AFP1 AHDC1 \n",
      "  160   321   445   345    25    70 \n"
     ]
    },
    {
     "name": "stderr",
     "output_type": "stream",
     "text": [
      "Warning message in df_tmp_tf$tissue <- tissues[i]:\n",
      "“Coercing LHS to a list”\n"
     ]
    },
    {
     "name": "stdout",
     "output_type": "stream",
     "text": [
      "   motif_id\n",
      "1:     ACE2\n",
      "2:     ACE2\n",
      "3:     ACE2\n",
      "4:     ACE2\n",
      "5:     ACE2\n",
      "6:     ACE2\n",
      "\n",
      " ABL1 ACAAT  ACE2 AEBP2  AFP1 AHDC1 \n",
      "  316   585   771   590    50   115 \n"
     ]
    },
    {
     "name": "stderr",
     "output_type": "stream",
     "text": [
      "Warning message in df_tmp_tf$tissue <- tissues[i]:\n",
      "“Coercing LHS to a list”\n"
     ]
    },
    {
     "name": "stdout",
     "output_type": "stream",
     "text": [
      "   motif_id\n",
      "1:     ACE2\n",
      "2:     ACE2\n",
      "3:     ACE2\n",
      "4:     ACE2\n",
      "5:     ACE2\n",
      "6:     ACE2\n",
      "\n",
      " ABL1 ACAAT  ACE2 AEBP2  AFP1 AHDC1 \n",
      "  862  1297  1801  1448   159   289 \n"
     ]
    },
    {
     "name": "stderr",
     "output_type": "stream",
     "text": [
      "Warning message in df_tmp_tf$tissue <- tissues[i]:\n",
      "“Coercing LHS to a list”\n"
     ]
    },
    {
     "name": "stdout",
     "output_type": "stream",
     "text": [
      "   motif_id\n",
      "1:     ACE2\n",
      "2:     ACE2\n",
      "3:     ACE2\n",
      "4:     ACE2\n",
      "5:     ACE2\n",
      "6:     ACE2\n",
      "\n",
      " ABL1 ACAAT  ACE2 AEBP2  AFP1 AHDC1 \n",
      "  352   560   749   603    52   132 \n"
     ]
    },
    {
     "name": "stderr",
     "output_type": "stream",
     "text": [
      "Warning message in df_tmp_tf$tissue <- tissues[i]:\n",
      "“Coercing LHS to a list”\n"
     ]
    },
    {
     "name": "stdout",
     "output_type": "stream",
     "text": [
      "   motif_id\n",
      "1:     ACE2\n",
      "2:     ACE2\n",
      "3:     ACE2\n",
      "4:     ACE2\n",
      "5:     ACE2\n",
      "6:     ACE2\n",
      "\n",
      " ABL1 ACAAT  ACE2 AEBP2  AFP1 AHDC1 \n",
      "  307   658   764   684    45   102 \n"
     ]
    },
    {
     "name": "stderr",
     "output_type": "stream",
     "text": [
      "Warning message in df_tmp_tf$tissue <- tissues[i]:\n",
      "“Coercing LHS to a list”\n"
     ]
    },
    {
     "name": "stdout",
     "output_type": "stream",
     "text": [
      "   motif_id\n",
      "1:     ACE2\n",
      "2:     ACE2\n",
      "3:     ACE2\n",
      "4:     ACE2\n",
      "5:     ACE2\n",
      "6:     ACE2\n",
      "\n",
      " ABL1 ACAAT  ACE2 AEBP2  AFP1 AHDC1 \n",
      "  231   468   662   517    37    86 \n"
     ]
    },
    {
     "name": "stderr",
     "output_type": "stream",
     "text": [
      "Warning message in df_tmp_tf$tissue <- tissues[i]:\n",
      "“Coercing LHS to a list”\n"
     ]
    },
    {
     "name": "stdout",
     "output_type": "stream",
     "text": [
      "   motif_id\n",
      "1:     ACE2\n",
      "2:     ACE2\n",
      "3:     ACE2\n",
      "4:     ACE2\n",
      "5:     ACE2\n",
      "6:     ACE2\n",
      "\n",
      " ABL1 ACAAT  ACE2 AEBP2  AFP1 AHDC1 \n",
      "  493   941  1238  1029   136   199 \n"
     ]
    },
    {
     "name": "stderr",
     "output_type": "stream",
     "text": [
      "Warning message in df_tmp_tf$tissue <- tissues[i]:\n",
      "“Coercing LHS to a list”\n"
     ]
    },
    {
     "name": "stdout",
     "output_type": "stream",
     "text": [
      "   motif_id\n",
      "1:     ACE2\n",
      "2:     ACE2\n",
      "3:     ACE2\n",
      "4:     ACE2\n",
      "5:     ACE2\n",
      "6:     ACE2\n",
      "\n",
      " ABL1 ACAAT  ACE2 AEBP2  AFP1 AHDC1 \n",
      "  450   463   745   400   100   207 \n"
     ]
    },
    {
     "name": "stderr",
     "output_type": "stream",
     "text": [
      "Warning message in df_tmp_tf$tissue <- tissues[i]:\n",
      "“Coercing LHS to a list”\n"
     ]
    },
    {
     "name": "stdout",
     "output_type": "stream",
     "text": [
      "   motif_id\n",
      "1:     ACE2\n",
      "2:     ACE2\n",
      "3:     ACE2\n",
      "4:     ACE2\n",
      "5:     ACE2\n",
      "6:     ACE2\n",
      "\n",
      " ABL1 ACAAT  ACE2 AEBP2  AFP1 AHDC1 \n",
      "  343   607   845   636    51   115 \n"
     ]
    },
    {
     "name": "stderr",
     "output_type": "stream",
     "text": [
      "Warning message in df_tmp_tf$tissue <- tissues[i]:\n",
      "“Coercing LHS to a list”\n"
     ]
    },
    {
     "name": "stdout",
     "output_type": "stream",
     "text": [
      "   motif_id\n",
      "1:     ACE2\n",
      "2:     ACE2\n",
      "3:     ACE2\n",
      "4:     ACE2\n",
      "5:     ACE2\n",
      "6:     ACE2\n",
      "\n",
      " ABL1 ACAAT  ACE2 AEBP2  AFP1 AHDC1 \n",
      "  337   588   728   588   147   149 \n"
     ]
    },
    {
     "name": "stderr",
     "output_type": "stream",
     "text": [
      "Warning message in df_tmp_tf$tissue <- tissues[i]:\n",
      "“Coercing LHS to a list”\n"
     ]
    },
    {
     "name": "stdout",
     "output_type": "stream",
     "text": [
      "   motif_id\n",
      "1:     ACE2\n",
      "2:     ACE2\n",
      "3:     ACE2\n",
      "4:     ACE2\n",
      "5:     ACE2\n",
      "6:     ACE2\n",
      "\n",
      " ABL1 ACAAT  ACE2 AEBP2  AFP1 AHDC1 \n",
      "  237   416   593   475    45    76 \n"
     ]
    },
    {
     "name": "stderr",
     "output_type": "stream",
     "text": [
      "Warning message in df_tmp_tf$tissue <- tissues[i]:\n",
      "“Coercing LHS to a list”\n"
     ]
    },
    {
     "name": "stdout",
     "output_type": "stream",
     "text": [
      "   motif_id\n",
      "1:     ACE2\n",
      "2:     ACE2\n",
      "3:     ACE2\n",
      "4:     ACE2\n",
      "5:     ACE2\n",
      "6:     ACE2\n",
      "\n",
      " ABL1 ACAAT  ACE2 AEBP2  AFP1 AHDC1 \n",
      "  428   761  1051   857    75   164 \n"
     ]
    },
    {
     "name": "stderr",
     "output_type": "stream",
     "text": [
      "Warning message in df_tmp_tf$tissue <- tissues[i]:\n",
      "“Coercing LHS to a list”\n"
     ]
    },
    {
     "name": "stdout",
     "output_type": "stream",
     "text": [
      "   motif_id\n",
      "1:     ACE2\n",
      "2:     ACE2\n",
      "3:     ACE2\n",
      "4:     ACE2\n",
      "5:     ACE2\n",
      "6:     ACE2\n",
      "\n",
      " ABL1 ACAAT  ACE2 AEBP2  AFP1 AHDC1 \n",
      "  403   471   745   461    99   224 \n"
     ]
    },
    {
     "name": "stderr",
     "output_type": "stream",
     "text": [
      "Warning message in df_tmp_tf$tissue <- tissues[i]:\n",
      "“Coercing LHS to a list”\n"
     ]
    },
    {
     "name": "stdout",
     "output_type": "stream",
     "text": [
      "   motif_id\n",
      "1:     ACE2\n",
      "2:     ACE2\n",
      "3:     ACE2\n",
      "4:     ACE2\n",
      "5:     ACE2\n",
      "6:     ACE2\n",
      "\n",
      " ABL1 ACAAT  ACE2 AEBP2  AFP1 AHDC1 \n",
      "  574  1012  1439  1119    98   264 \n"
     ]
    },
    {
     "name": "stderr",
     "output_type": "stream",
     "text": [
      "Warning message in df_tmp_tf$tissue <- tissues[i]:\n",
      "“Coercing LHS to a list”\n"
     ]
    },
    {
     "name": "stdout",
     "output_type": "stream",
     "text": [
      "   motif_id\n",
      "1:     ACE2\n",
      "2:     ACE2\n",
      "3:     ACE2\n",
      "4:     ACE2\n",
      "5:     ACE2\n",
      "6:     ACE2\n",
      "\n",
      " ABL1 ACAAT  ACE2 AEBP2  AFP1 AHDC1 \n",
      "  698  1229  1690  1392   146   297 \n"
     ]
    },
    {
     "name": "stderr",
     "output_type": "stream",
     "text": [
      "Warning message in df_tmp_tf$tissue <- tissues[i]:\n",
      "“Coercing LHS to a list”\n"
     ]
    },
    {
     "name": "stdout",
     "output_type": "stream",
     "text": [
      "   motif_id\n",
      "1:     ACE2\n",
      "2:     ACE2\n",
      "3:     ACE2\n",
      "4:     ACE2\n",
      "5:     ACE2\n",
      "6:     ACE2\n",
      "\n",
      " ABL1 ACAAT  ACE2 AEBP2  AFP1 AHDC1 \n",
      "  658  1169  1530  1316   100   242 \n"
     ]
    },
    {
     "name": "stderr",
     "output_type": "stream",
     "text": [
      "Warning message in df_tmp_tf$tissue <- tissues[i]:\n",
      "“Coercing LHS to a list”\n"
     ]
    },
    {
     "name": "stdout",
     "output_type": "stream",
     "text": [
      "   motif_id\n",
      "1:     ACE2\n",
      "2:     ACE2\n",
      "3:     ACE2\n",
      "4:     ACE2\n",
      "5:     ACE2\n",
      "6:     ACE2\n",
      "\n",
      " ABL1 ACAAT  ACE2 AEBP2  AFP1 AHDC1 \n",
      "  206   394   646   564    39   108 \n"
     ]
    },
    {
     "name": "stderr",
     "output_type": "stream",
     "text": [
      "Warning message in df_tmp_tf$tissue <- tissues[i]:\n",
      "“Coercing LHS to a list”\n"
     ]
    },
    {
     "name": "stdout",
     "output_type": "stream",
     "text": [
      "   motif_id\n",
      "1:     ACE2\n",
      "2:     ACE2\n",
      "3:     ACE2\n",
      "4:     ACE2\n",
      "5:     ACE2\n",
      "6:     ACE2\n",
      "\n",
      " ABL1 ACAAT  ACE2 AEBP2  AFP1 AHDC1 \n",
      "  204   416   612   525    30    73 \n"
     ]
    },
    {
     "name": "stderr",
     "output_type": "stream",
     "text": [
      "Warning message in df_tmp_tf$tissue <- tissues[i]:\n",
      "“Coercing LHS to a list”\n"
     ]
    },
    {
     "name": "stdout",
     "output_type": "stream",
     "text": [
      "   motif_id\n",
      "1:     ACE2\n",
      "2:     ACE2\n",
      "3:     ACE2\n",
      "4:     ACE2\n",
      "5:     ACE2\n",
      "6:     ACE2\n",
      "\n",
      " ABL1 ACAAT  ACE2 AEBP2  AFP1 AHDC1 \n",
      "  287   633   831   695    38   112 \n"
     ]
    },
    {
     "name": "stderr",
     "output_type": "stream",
     "text": [
      "Warning message in df_tmp_tf$tissue <- tissues[i]:\n",
      "“Coercing LHS to a list”\n"
     ]
    },
    {
     "name": "stdout",
     "output_type": "stream",
     "text": [
      "   motif_id\n",
      "1:     ACE2\n",
      "2:     ACE2\n",
      "3:     ACE2\n",
      "4:     ACE2\n",
      "5:     ACE2\n",
      "6:     ACE2\n",
      "\n",
      " ABL1 ACAAT  ACE2 AEBP2  AFP1 AHDC1 \n",
      "  322   653   763   684    58   106 \n"
     ]
    },
    {
     "name": "stderr",
     "output_type": "stream",
     "text": [
      "Warning message in df_tmp_tf$tissue <- tissues[i]:\n",
      "“Coercing LHS to a list”\n"
     ]
    },
    {
     "name": "stdout",
     "output_type": "stream",
     "text": [
      "   motif_id\n",
      "1:     ACE2\n",
      "2:     ACE2\n",
      "3:     ACE2\n",
      "4:     ACE2\n",
      "5:     ACE2\n",
      "6:     ACE2\n",
      "\n",
      " ABL1 ACAAT  ACE2 AEBP2  AFP1 AHDC1 \n",
      "  367   641   784   664   148   173 \n"
     ]
    },
    {
     "name": "stderr",
     "output_type": "stream",
     "text": [
      "Warning message in df_tmp_tf$tissue <- tissues[i]:\n",
      "“Coercing LHS to a list”\n"
     ]
    },
    {
     "name": "stdout",
     "output_type": "stream",
     "text": [
      "   motif_id\n",
      "1:     ACE2\n",
      "2:     ACE2\n",
      "3:     ACE2\n",
      "4:     ACE2\n",
      "5:     ACE2\n",
      "6:     ACE2\n",
      "\n",
      " ABL1 ACAAT  ACE2 AEBP2  AFP1 AHDC1 \n",
      "  162   391   524   481    15    63 \n"
     ]
    },
    {
     "name": "stderr",
     "output_type": "stream",
     "text": [
      "Warning message in df_tmp_tf$tissue <- tissues[i]:\n",
      "“Coercing LHS to a list”\n"
     ]
    },
    {
     "name": "stdout",
     "output_type": "stream",
     "text": [
      "   motif_id\n",
      "1:     ACE2\n",
      "2:     ACE2\n",
      "3:     ACE2\n",
      "4:     ACE2\n",
      "5:     ACE2\n",
      "6:     ACE2\n",
      "\n",
      " ABL1 ACAAT  ACE2 AEBP2  AFP1 AHDC1 \n",
      "  426   603   807   624   164   230 \n"
     ]
    },
    {
     "name": "stderr",
     "output_type": "stream",
     "text": [
      "Warning message in df_tmp_tf$tissue <- tissues[i]:\n",
      "“Coercing LHS to a list”\n"
     ]
    },
    {
     "name": "stdout",
     "output_type": "stream",
     "text": [
      "   motif_id\n",
      "1:     ACE2\n",
      "2:     ACE2\n",
      "3:     ACE2\n",
      "4:     ACE2\n",
      "5:     ACE2\n",
      "6:     ACE2\n",
      "\n",
      " ABL1 ACAAT  ACE2 AEBP2  AFP1 AHDC1 \n",
      "  383   834  1102   970    59   118 \n"
     ]
    },
    {
     "name": "stderr",
     "output_type": "stream",
     "text": [
      "Warning message in df_tmp_tf$tissue <- tissues[i]:\n",
      "“Coercing LHS to a list”\n"
     ]
    },
    {
     "name": "stdout",
     "output_type": "stream",
     "text": [
      "   motif_id\n",
      "1:     ACE2\n",
      "2:     ACE2\n",
      "3:     ACE2\n",
      "4:     ACE2\n",
      "5:     ACE2\n",
      "6:     ACE2\n",
      "\n",
      " ABL1 ACAAT  ACE2 AEBP2  AFP1 AHDC1 \n",
      "  262   380   547   422    56   125 \n"
     ]
    },
    {
     "name": "stderr",
     "output_type": "stream",
     "text": [
      "Warning message in df_tmp_tf$tissue <- tissues[i]:\n",
      "“Coercing LHS to a list”\n"
     ]
    },
    {
     "name": "stdout",
     "output_type": "stream",
     "text": [
      "   motif_id\n",
      "1:     ACE2\n",
      "2:     ACE2\n",
      "3:     ACE2\n",
      "4:     ACE2\n",
      "5:     ACE2\n",
      "6:     ACE2\n",
      "\n",
      " ABL1 ACAAT  ACE2 AEBP2  AFP1 AHDC1 \n",
      "  233   387   553   441    40    78 \n"
     ]
    },
    {
     "name": "stderr",
     "output_type": "stream",
     "text": [
      "Warning message in df_tmp_tf$tissue <- tissues[i]:\n",
      "“Coercing LHS to a list”\n"
     ]
    },
    {
     "name": "stdout",
     "output_type": "stream",
     "text": [
      "   motif_id\n",
      "1:     ACE2\n",
      "2:     ACE2\n",
      "3:     ACE2\n",
      "4:     ACE2\n",
      "5:     ACE2\n",
      "6:     ACE2\n",
      "\n",
      " ABL1 ACAAT  ACE2 AEBP2  AFP1 AHDC1 \n",
      "  728   620  1011   586   167   328 \n"
     ]
    },
    {
     "name": "stderr",
     "output_type": "stream",
     "text": [
      "Warning message in df_tmp_tf$tissue <- tissues[i]:\n",
      "“Coercing LHS to a list”\n"
     ]
    },
    {
     "name": "stdout",
     "output_type": "stream",
     "text": [
      "   motif_id\n",
      "1:     ACE2\n",
      "2:     ACE2\n",
      "3:     ACE2\n",
      "4:     ACE2\n",
      "5:     ACE2\n",
      "6:     ACE2\n",
      "\n",
      " ABL1 ACAAT  ACE2 AEBP2  AFP1 AHDC1 \n",
      "  197   300   422   339    36   110 \n"
     ]
    },
    {
     "name": "stderr",
     "output_type": "stream",
     "text": [
      "Warning message in df_tmp_tf$tissue <- tissues[i]:\n",
      "“Coercing LHS to a list”\n"
     ]
    },
    {
     "name": "stdout",
     "output_type": "stream",
     "text": [
      "   motif_id\n",
      "1:     ACE2\n",
      "2:     ACE2\n",
      "3:     ACE2\n",
      "4:     ACE2\n",
      "5:     ACE2\n",
      "6:     ACE2\n",
      "\n",
      " ABL1 ACAAT  ACE2 AEBP2  AFP1 AHDC1 \n",
      "  250   418   566   441    36   132 \n"
     ]
    },
    {
     "name": "stderr",
     "output_type": "stream",
     "text": [
      "Warning message in df_tmp_tf$tissue <- tissues[i]:\n",
      "“Coercing LHS to a list”\n"
     ]
    },
    {
     "name": "stdout",
     "output_type": "stream",
     "text": [
      "   motif_id\n",
      "1:     ACE2\n",
      "2:     ACE2\n",
      "3:     ACE2\n",
      "4:     ACE2\n",
      "5:     ACE2\n",
      "6:     ACE2\n",
      "\n",
      " ABL1 ACAAT  ACE2 AEBP2  AFP1 AHDC1 \n",
      "  875   699  1179   672   235   402 \n"
     ]
    },
    {
     "name": "stderr",
     "output_type": "stream",
     "text": [
      "Warning message in df_tmp_tf$tissue <- tissues[i]:\n",
      "“Coercing LHS to a list”\n"
     ]
    },
    {
     "name": "stdout",
     "output_type": "stream",
     "text": [
      "   motif_id\n",
      "1:     ACE2\n",
      "2:     ACE2\n",
      "3:     ACE2\n",
      "4:     ACE2\n",
      "5:     ACE2\n",
      "6:     ACE2\n",
      "\n",
      " ABL1 ACAAT  ACE2 AEBP2  AFP1 AHDC1 \n",
      "  300   559   795   698    37   104 \n"
     ]
    },
    {
     "name": "stderr",
     "output_type": "stream",
     "text": [
      "Warning message in df_tmp_tf$tissue <- tissues[i]:\n",
      "“Coercing LHS to a list”\n"
     ]
    },
    {
     "name": "stdout",
     "output_type": "stream",
     "text": [
      "   motif_id\n",
      "1:     ACE2\n",
      "2:     ACE2\n",
      "3:     ACE2\n",
      "4:     ACE2\n",
      "5:     ACE2\n",
      "6:     ACE2\n",
      "\n",
      " ABL1 ACAAT  ACE2 AEBP2  AFP1 AHDC1 \n",
      "  251   529   687   659    31   102 \n"
     ]
    },
    {
     "name": "stderr",
     "output_type": "stream",
     "text": [
      "Warning message in df_tmp_tf$tissue <- tissues[i]:\n",
      "“Coercing LHS to a list”\n"
     ]
    },
    {
     "name": "stdout",
     "output_type": "stream",
     "text": [
      "   motif_id\n",
      "1:     ACE2\n",
      "2:     ACE2\n",
      "3:     ACE2\n",
      "4:     ACE2\n",
      "5:     ACE2\n",
      "6:     ACE2\n",
      "\n",
      " ABL1 ACAAT  ACE2 AEBP2  AFP1 AHDC1 \n",
      "  366   632   879   693    56   138 \n"
     ]
    },
    {
     "name": "stderr",
     "output_type": "stream",
     "text": [
      "Warning message in df_tmp_tf$tissue <- tissues[i]:\n",
      "“Coercing LHS to a list”\n"
     ]
    },
    {
     "name": "stdout",
     "output_type": "stream",
     "text": [
      "   motif_id\n",
      "1:     ACE2\n",
      "2:     ACE2\n",
      "3:     ACE2\n",
      "4:     ACE2\n",
      "5:     ACE2\n",
      "6:     ACE2\n",
      "\n",
      " ABL1 ACAAT  ACE2 AEBP2  AFP1 AHDC1 \n",
      "  161   366   552   495    18    56 \n"
     ]
    },
    {
     "name": "stderr",
     "output_type": "stream",
     "text": [
      "Warning message in df_tmp_tf$tissue <- tissues[i]:\n",
      "“Coercing LHS to a list”\n"
     ]
    },
    {
     "name": "stdout",
     "output_type": "stream",
     "text": [
      "   motif_id\n",
      "1:     ACE2\n",
      "2:     ACE2\n",
      "3:     ACE2\n",
      "4:     ACE2\n",
      "5:     ACE2\n",
      "6:     ACE2\n",
      "\n",
      " ABL1 ACAAT  ACE2 AEBP2  AFP1 AHDC1 \n",
      "  363   828  1001   825    50   118 \n"
     ]
    },
    {
     "name": "stderr",
     "output_type": "stream",
     "text": [
      "Warning message in df_tmp_tf$tissue <- tissues[i]:\n",
      "“Coercing LHS to a list”\n"
     ]
    },
    {
     "name": "stdout",
     "output_type": "stream",
     "text": [
      "   motif_id\n",
      "1:     ACE2\n",
      "2:     ACE2\n",
      "3:     ACE2\n",
      "4:     ACE2\n",
      "5:     ACE2\n",
      "6:     ACE2\n",
      "\n",
      " ABL1 ACAAT  ACE2 AEBP2  AFP1 AHDC1 \n",
      "  300   303   458   285    62   145 \n"
     ]
    },
    {
     "name": "stderr",
     "output_type": "stream",
     "text": [
      "Warning message in df_tmp_tf$tissue <- tissues[i]:\n",
      "“Coercing LHS to a list”\n"
     ]
    },
    {
     "name": "stdout",
     "output_type": "stream",
     "text": [
      "   motif_id\n",
      "1:     ACE2\n",
      "2:     ACE2\n",
      "3:     ACE2\n",
      "4:     ACE2\n",
      "5:     ACE2\n",
      "6:     ACE2\n",
      "\n",
      " ABL1 ACAAT  ACE2 AEBP2  AFP1 AHDC1 \n",
      "  344   721   920   773    54   127 \n"
     ]
    },
    {
     "name": "stderr",
     "output_type": "stream",
     "text": [
      "Warning message in df_tmp_tf$tissue <- tissues[i]:\n",
      "“Coercing LHS to a list”\n"
     ]
    },
    {
     "name": "stdout",
     "output_type": "stream",
     "text": [
      "   motif_id\n",
      "1:     ACE2\n",
      "2:     ACE2\n",
      "3:     ACE2\n",
      "4:     ACE2\n",
      "5:     ACE2\n",
      "6:     ACE2\n",
      "\n",
      " ABL1 ACAAT  ACE2 AEBP2  AFP1 AHDC1 \n",
      "  202   383   528   424    20    63 \n"
     ]
    },
    {
     "name": "stderr",
     "output_type": "stream",
     "text": [
      "Warning message in df_tmp_tf$tissue <- tissues[i]:\n",
      "“Coercing LHS to a list”\n"
     ]
    },
    {
     "name": "stdout",
     "output_type": "stream",
     "text": [
      "   motif_id\n",
      "1:     ACE2\n",
      "2:     ACE2\n",
      "3:     ACE2\n",
      "4:     ACE2\n",
      "5:     ACE2\n",
      "6:     ACE2\n",
      "\n",
      " ABL1 ACAAT  ACE2 AEBP2  AFP1 AHDC1 \n",
      "  480   845  1150   916    60   149 \n"
     ]
    },
    {
     "name": "stderr",
     "output_type": "stream",
     "text": [
      "Warning message in df_tmp_tf$tissue <- tissues[i]:\n",
      "“Coercing LHS to a list”\n"
     ]
    },
    {
     "name": "stdout",
     "output_type": "stream",
     "text": [
      "   motif_id\n",
      "1:     ACE2\n",
      "2:     ACE2\n",
      "3:     ACE2\n",
      "4:     ACE2\n",
      "5:     ACE2\n",
      "6:     ACE2\n",
      "\n",
      " ABL1 ACAAT  ACE2 AEBP2  AFP1 AHDC1 \n",
      "  776   633  1061   611   195   404 \n"
     ]
    },
    {
     "name": "stderr",
     "output_type": "stream",
     "text": [
      "Warning message in df_tmp_tf$tissue <- tissues[i]:\n",
      "“Coercing LHS to a list”\n"
     ]
    },
    {
     "name": "stdout",
     "output_type": "stream",
     "text": [
      "   motif_id\n",
      "1:     ACE2\n",
      "2:     ACE2\n",
      "3:     ACE2\n",
      "4:     ACE2\n",
      "5:     ACE2\n",
      "6:     ACE2\n",
      "\n",
      " ABL1 ACAAT  ACE2 AEBP2  AFP1 AHDC1 \n",
      "  163   153   268   198    22    80 \n"
     ]
    },
    {
     "name": "stderr",
     "output_type": "stream",
     "text": [
      "Warning message in df_tmp_tf$tissue <- tissues[i]:\n",
      "“Coercing LHS to a list”\n"
     ]
    }
   ],
   "source": [
    "# set file paths fimo files pv threshold, collapsed\n",
    "\n",
    "file_paths_fimo_pv_collapsed <- list()\n",
    "\n",
    "for (tissue in tissues) {\n",
    "    file_path <- paste(\"/project/pauline_association_plots_data/experiments_single_data_2/fimo/pv-thres/0_collapsed/\",  \n",
    "                       tissue, \"_collapsed.tsv\", sep=\"\")\n",
    "    file_paths_fimo_pv_collapsed[[tissue]] <- file_path\n",
    "}\n",
    "\n",
    "output_file = 'results/matrix_tissues_tfs.tsv'\n",
    "matrix_pv <- combine_and_write_tfs(tissues, file_paths_fimo_pv_collapsed, output_file)\n"
   ]
  },
  {
   "cell_type": "code",
   "execution_count": 89,
   "id": "f91e52ae-168d-45cb-829c-5da3877cf8d4",
   "metadata": {
    "collapsed": true,
    "jupyter": {
     "outputs_hidden": true
    }
   },
   "outputs": [
    {
     "data": {
      "text/html": [
       "<table class=\"dataframe\">\n",
       "<caption>A data.frame: 6 × 1588</caption>\n",
       "<thead>\n",
       "\t<tr><th></th><th scope=col>ABL1</th><th scope=col>ACAAT</th><th scope=col>ACE2</th><th scope=col>AEBP2</th><th scope=col>AFP1</th><th scope=col>AHDC1</th><th scope=col>AHR</th><th scope=col>AIOLOS</th><th scope=col>AIRE</th><th scope=col>ALF</th><th scope=col>⋯</th><th scope=col>ZSCAN2</th><th scope=col>ZSCAN30</th><th scope=col>ZSCAN4</th><th scope=col>ZSCAN5</th><th scope=col>ZSCAN5B</th><th scope=col>ZSCAN5C</th><th scope=col>ZTA</th><th scope=col>ZXDA</th><th scope=col>ZXDB</th><th scope=col>ZXDL</th></tr>\n",
       "\t<tr><th></th><th scope=col>&lt;int&gt;</th><th scope=col>&lt;int&gt;</th><th scope=col>&lt;int&gt;</th><th scope=col>&lt;int&gt;</th><th scope=col>&lt;int&gt;</th><th scope=col>&lt;int&gt;</th><th scope=col>&lt;int&gt;</th><th scope=col>&lt;int&gt;</th><th scope=col>&lt;int&gt;</th><th scope=col>&lt;int&gt;</th><th scope=col>⋯</th><th scope=col>&lt;int&gt;</th><th scope=col>&lt;int&gt;</th><th scope=col>&lt;int&gt;</th><th scope=col>&lt;int&gt;</th><th scope=col>&lt;int&gt;</th><th scope=col>&lt;int&gt;</th><th scope=col>&lt;int&gt;</th><th scope=col>&lt;int&gt;</th><th scope=col>&lt;int&gt;</th><th scope=col>&lt;int&gt;</th></tr>\n",
       "</thead>\n",
       "<tbody>\n",
       "\t<tr><th scope=row>adipose_1</th><td>384</td><td>681</td><td>971</td><td>784</td><td>63</td><td>171</td><td>3801</td><td>6123</td><td>98</td><td>412</td><td>⋯</td><td>328</td><td>12500</td><td>722</td><td>1214</td><td>173</td><td>212</td><td>266</td><td>787</td><td>334</td><td>53086</td></tr>\n",
       "\t<tr><th scope=row>adipose_2</th><td>195</td><td>352</td><td>535</td><td>416</td><td>27</td><td> 94</td><td>1927</td><td>3434</td><td>54</td><td>210</td><td>⋯</td><td>163</td><td> 6598</td><td>399</td><td> 638</td><td> 99</td><td>125</td><td>131</td><td>407</td><td>174</td><td>57646</td></tr>\n",
       "\t<tr><th scope=row>adipose_3</th><td>170</td><td>318</td><td>513</td><td>360</td><td>33</td><td> 82</td><td>1863</td><td>3126</td><td>52</td><td>197</td><td>⋯</td><td>159</td><td> 6185</td><td>381</td><td> 564</td><td> 95</td><td>119</td><td>138</td><td>413</td><td>185</td><td>53168</td></tr>\n",
       "\t<tr><th scope=row>adipose_4</th><td>192</td><td>317</td><td>519</td><td>376</td><td>39</td><td>102</td><td>1821</td><td>3084</td><td>49</td><td>219</td><td>⋯</td><td>171</td><td> 6076</td><td>362</td><td> 564</td><td> 90</td><td>119</td><td>141</td><td>389</td><td>167</td><td>54225</td></tr>\n",
       "\t<tr><th scope=row>adrenal_gland_1</th><td>428</td><td>819</td><td>914</td><td>849</td><td>56</td><td>135</td><td>4379</td><td>6777</td><td>68</td><td>457</td><td>⋯</td><td>370</td><td>12918</td><td>702</td><td>1237</td><td>197</td><td>229</td><td>194</td><td>790</td><td>360</td><td>57347</td></tr>\n",
       "\t<tr><th scope=row>adrenal_gland_2</th><td>274</td><td>531</td><td>625</td><td>537</td><td>51</td><td>115</td><td>2821</td><td>4453</td><td>60</td><td>304</td><td>⋯</td><td>272</td><td> 8434</td><td>533</td><td> 778</td><td>141</td><td>168</td><td>150</td><td>530</td><td>240</td><td>73860</td></tr>\n",
       "</tbody>\n",
       "</table>\n"
      ],
      "text/latex": [
       "A data.frame: 6 × 1588\n",
       "\\begin{tabular}{r|lllllllllllllllllllll}\n",
       "  & ABL1 & ACAAT & ACE2 & AEBP2 & AFP1 & AHDC1 & AHR & AIOLOS & AIRE & ALF & ⋯ & ZSCAN2 & ZSCAN30 & ZSCAN4 & ZSCAN5 & ZSCAN5B & ZSCAN5C & ZTA & ZXDA & ZXDB & ZXDL\\\\\n",
       "  & <int> & <int> & <int> & <int> & <int> & <int> & <int> & <int> & <int> & <int> & ⋯ & <int> & <int> & <int> & <int> & <int> & <int> & <int> & <int> & <int> & <int>\\\\\n",
       "\\hline\n",
       "\tadipose\\_1 & 384 & 681 & 971 & 784 & 63 & 171 & 3801 & 6123 & 98 & 412 & ⋯ & 328 & 12500 & 722 & 1214 & 173 & 212 & 266 & 787 & 334 & 53086\\\\\n",
       "\tadipose\\_2 & 195 & 352 & 535 & 416 & 27 &  94 & 1927 & 3434 & 54 & 210 & ⋯ & 163 &  6598 & 399 &  638 &  99 & 125 & 131 & 407 & 174 & 57646\\\\\n",
       "\tadipose\\_3 & 170 & 318 & 513 & 360 & 33 &  82 & 1863 & 3126 & 52 & 197 & ⋯ & 159 &  6185 & 381 &  564 &  95 & 119 & 138 & 413 & 185 & 53168\\\\\n",
       "\tadipose\\_4 & 192 & 317 & 519 & 376 & 39 & 102 & 1821 & 3084 & 49 & 219 & ⋯ & 171 &  6076 & 362 &  564 &  90 & 119 & 141 & 389 & 167 & 54225\\\\\n",
       "\tadrenal\\_gland\\_1 & 428 & 819 & 914 & 849 & 56 & 135 & 4379 & 6777 & 68 & 457 & ⋯ & 370 & 12918 & 702 & 1237 & 197 & 229 & 194 & 790 & 360 & 57347\\\\\n",
       "\tadrenal\\_gland\\_2 & 274 & 531 & 625 & 537 & 51 & 115 & 2821 & 4453 & 60 & 304 & ⋯ & 272 &  8434 & 533 &  778 & 141 & 168 & 150 & 530 & 240 & 73860\\\\\n",
       "\\end{tabular}\n"
      ],
      "text/markdown": [
       "\n",
       "A data.frame: 6 × 1588\n",
       "\n",
       "| <!--/--> | ABL1 &lt;int&gt; | ACAAT &lt;int&gt; | ACE2 &lt;int&gt; | AEBP2 &lt;int&gt; | AFP1 &lt;int&gt; | AHDC1 &lt;int&gt; | AHR &lt;int&gt; | AIOLOS &lt;int&gt; | AIRE &lt;int&gt; | ALF &lt;int&gt; | ⋯ ⋯ | ZSCAN2 &lt;int&gt; | ZSCAN30 &lt;int&gt; | ZSCAN4 &lt;int&gt; | ZSCAN5 &lt;int&gt; | ZSCAN5B &lt;int&gt; | ZSCAN5C &lt;int&gt; | ZTA &lt;int&gt; | ZXDA &lt;int&gt; | ZXDB &lt;int&gt; | ZXDL &lt;int&gt; |\n",
       "|---|---|---|---|---|---|---|---|---|---|---|---|---|---|---|---|---|---|---|---|---|---|\n",
       "| adipose_1 | 384 | 681 | 971 | 784 | 63 | 171 | 3801 | 6123 | 98 | 412 | ⋯ | 328 | 12500 | 722 | 1214 | 173 | 212 | 266 | 787 | 334 | 53086 |\n",
       "| adipose_2 | 195 | 352 | 535 | 416 | 27 |  94 | 1927 | 3434 | 54 | 210 | ⋯ | 163 |  6598 | 399 |  638 |  99 | 125 | 131 | 407 | 174 | 57646 |\n",
       "| adipose_3 | 170 | 318 | 513 | 360 | 33 |  82 | 1863 | 3126 | 52 | 197 | ⋯ | 159 |  6185 | 381 |  564 |  95 | 119 | 138 | 413 | 185 | 53168 |\n",
       "| adipose_4 | 192 | 317 | 519 | 376 | 39 | 102 | 1821 | 3084 | 49 | 219 | ⋯ | 171 |  6076 | 362 |  564 |  90 | 119 | 141 | 389 | 167 | 54225 |\n",
       "| adrenal_gland_1 | 428 | 819 | 914 | 849 | 56 | 135 | 4379 | 6777 | 68 | 457 | ⋯ | 370 | 12918 | 702 | 1237 | 197 | 229 | 194 | 790 | 360 | 57347 |\n",
       "| adrenal_gland_2 | 274 | 531 | 625 | 537 | 51 | 115 | 2821 | 4453 | 60 | 304 | ⋯ | 272 |  8434 | 533 |  778 | 141 | 168 | 150 | 530 | 240 | 73860 |\n",
       "\n"
      ],
      "text/plain": [
       "                ABL1 ACAAT ACE2 AEBP2 AFP1 AHDC1 AHR  AIOLOS AIRE ALF ⋯ ZSCAN2\n",
       "adipose_1       384  681   971  784   63   171   3801 6123   98   412 ⋯ 328   \n",
       "adipose_2       195  352   535  416   27    94   1927 3434   54   210 ⋯ 163   \n",
       "adipose_3       170  318   513  360   33    82   1863 3126   52   197 ⋯ 159   \n",
       "adipose_4       192  317   519  376   39   102   1821 3084   49   219 ⋯ 171   \n",
       "adrenal_gland_1 428  819   914  849   56   135   4379 6777   68   457 ⋯ 370   \n",
       "adrenal_gland_2 274  531   625  537   51   115   2821 4453   60   304 ⋯ 272   \n",
       "                ZSCAN30 ZSCAN4 ZSCAN5 ZSCAN5B ZSCAN5C ZTA ZXDA ZXDB ZXDL \n",
       "adipose_1       12500   722    1214   173     212     266 787  334  53086\n",
       "adipose_2        6598   399     638    99     125     131 407  174  57646\n",
       "adipose_3        6185   381     564    95     119     138 413  185  53168\n",
       "adipose_4        6076   362     564    90     119     141 389  167  54225\n",
       "adrenal_gland_1 12918   702    1237   197     229     194 790  360  57347\n",
       "adrenal_gland_2  8434   533     778   141     168     150 530  240  73860"
      ]
     },
     "metadata": {},
     "output_type": "display_data"
    }
   ],
   "source": [
    "head(matrix_pv)"
   ]
  },
  {
   "cell_type": "code",
   "execution_count": 94,
   "id": "801f4276-13cf-4db5-bb51-bb2225e8754c",
   "metadata": {},
   "outputs": [
    {
     "data": {
      "text/html": [
       "1588"
      ],
      "text/latex": [
       "1588"
      ],
      "text/markdown": [
       "1588"
      ],
      "text/plain": [
       "[1] 1588"
      ]
     },
     "metadata": {},
     "output_type": "display_data"
    }
   ],
   "source": [
    "ncol(matrix_pv)\n",
    "write.table(matrix_pv, \"results/matrix_promoter_tfs.tsv\", \n",
    "            sep=\"\\t\", row.names=TRUE, col.names=TRUE)"
   ]
  },
  {
   "cell_type": "markdown",
   "id": "f0aa42d6-9747-47f4-82c9-654c893ae25b",
   "metadata": {},
   "source": [
    "# Matrix with ctss number"
   ]
  },
  {
   "cell_type": "code",
   "execution_count": 91,
   "id": "d44e96e1-0273-431b-a35d-237b1effbb08",
   "metadata": {},
   "outputs": [],
   "source": [
    "# make tissue list\n",
    "files = list.files(\"/project/pauline_association_plots_data/experiments_single_data_2/tsv_all_data/complete/\")\n",
    "excluded_ext <- \"_all_data.tsv\"\n",
    "tissues <- sub(paste0(excluded_ext, \"$\"), \"\", files)"
   ]
  },
  {
   "cell_type": "code",
   "execution_count": null,
   "id": "fcb239ab-b993-4c4a-96bd-7d770042f1ce",
   "metadata": {
    "collapsed": true,
    "jupyter": {
     "outputs_hidden": true,
     "source_hidden": true
    },
    "scrolled": true
   },
   "outputs": [
    {
     "name": "stderr",
     "output_type": "stream",
     "text": [
      "Warning message:\n",
      "“Expected 2 pieces. Additional pieces discarded in 814167 rows [1, 7, 8, 11, 12, 15, 18, 19, 20, 24, 25, 26, 27, 28, 29, 30, 31, 32, 34, 37, ...].”\n",
      "Warning message:\n",
      "“Expected 2 pieces. Additional pieces discarded in 433884 rows [2, 3, 6, 7, 8, 9, 10, 11, 13, 14, 15, 16, 17, 18, 23, 24, 31, 36, 37, 39, ...].”\n",
      "Warning message:\n",
      "“Expected 2 pieces. Additional pieces discarded in 412056 rows [2, 3, 4, 6, 8, 9, 10, 11, 12, 13, 14, 16, 17, 18, 20, 21, 22, 23, 24, 25, ...].”\n",
      "Warning message:\n",
      "“Expected 2 pieces. Additional pieces discarded in 410563 rows [3, 6, 10, 11, 12, 13, 14, 15, 16, 18, 19, 20, 21, 25, 28, 29, 30, 31, 33, 34, ...].”\n",
      "Warning message:\n",
      "“Expected 2 pieces. Additional pieces discarded in 861915 rows [2, 3, 4, 5, 7, 8, 10, 12, 13, 14, 16, 17, 18, 19, 21, 22, 24, 27, 28, 29, ...].”\n",
      "Warning message:\n",
      "“Expected 2 pieces. Additional pieces discarded in 571458 rows [1, 2, 3, 6, 7, 8, 9, 10, 11, 12, 13, 14, 18, 21, 23, 26, 27, 32, 33, 35, ...].”\n",
      "Warning message:\n",
      "“Expected 2 pieces. Additional pieces discarded in 404699 rows [1, 5, 6, 8, 12, 13, 14, 15, 17, 18, 21, 22, 27, 28, 29, 34, 36, 37, 38, 40, ...].”\n",
      "Warning message:\n",
      "“Expected 2 pieces. Additional pieces discarded in 1224393 rows [1, 3, 6, 7, 9, 10, 11, 15, 16, 17, 19, 20, 24, 25, 26, 27, 31, 32, 34, 35, ...].”\n",
      "Warning message:\n",
      "“Expected 2 pieces. Additional pieces discarded in 1135229 rows [1, 4, 5, 9, 11, 12, 13, 14, 15, 18, 19, 21, 22, 23, 24, 27, 29, 37, 38, 40, ...].”\n",
      "Warning message:\n",
      "“Expected 2 pieces. Additional pieces discarded in 1198229 rows [1, 2, 5, 6, 7, 8, 10, 11, 13, 15, 16, 17, 18, 19, 20, 21, 23, 24, 26, 27, ...].”\n",
      "Warning message:\n",
      "“Expected 2 pieces. Additional pieces discarded in 1379154 rows [1, 2, 5, 6, 7, 8, 10, 12, 13, 16, 17, 19, 20, 21, 24, 25, 27, 28, 29, 30, ...].”\n",
      "Warning message:\n",
      "“Expected 2 pieces. Additional pieces discarded in 1394535 rows [3, 4, 7, 8, 10, 13, 14, 16, 17, 20, 22, 23, 27, 28, 29, 31, 32, 34, 35, 36, ...].”\n",
      "Warning message:\n",
      "“Expected 2 pieces. Additional pieces discarded in 1432669 rows [2, 3, 6, 7, 9, 14, 15, 19, 21, 23, 24, 25, 29, 30, 31, 33, 34, 35, 36, 37, ...].”\n",
      "Warning message:\n",
      "“Expected 2 pieces. Additional pieces discarded in 1552972 rows [3, 4, 7, 8, 10, 11, 16, 17, 18, 20, 23, 24, 25, 27, 29, 30, 31, 34, 35, 36, ...].”\n",
      "Warning message:\n",
      "“Expected 2 pieces. Additional pieces discarded in 1579359 rows [4, 5, 8, 9, 11, 12, 16, 17, 18, 19, 21, 22, 25, 26, 27, 28, 30, 31, 32, 34, ...].”\n",
      "Warning message:\n",
      "“Expected 2 pieces. Additional pieces discarded in 614345 rows [1, 3, 4, 6, 7, 9, 10, 11, 12, 13, 15, 16, 17, 18, 19, 20, 21, 22, 32, 35, ...].”\n",
      "Warning message:\n",
      "“Expected 2 pieces. Additional pieces discarded in 1480781 rows [2, 3, 6, 7, 9, 11, 12, 15, 16, 17, 19, 20, 23, 24, 25, 26, 27, 29, 30, 31, ...].”\n",
      "Warning message:\n",
      "“Expected 2 pieces. Additional pieces discarded in 1309687 rows [2, 5, 6, 8, 12, 13, 15, 17, 18, 20, 22, 23, 25, 26, 27, 28, 29, 30, 31, 33, ...].”\n",
      "Warning message:\n",
      "“Expected 2 pieces. Additional pieces discarded in 1192782 rows [2, 3, 4, 7, 10, 13, 15, 17, 18, 19, 21, 24, 25, 27, 28, 29, 30, 31, 33, 34, ...].”\n",
      "Warning message:\n",
      "“Expected 2 pieces. Additional pieces discarded in 1194557 rows [1, 2, 5, 6, 8, 10, 11, 14, 15, 16, 18, 20, 21, 23, 24, 25, 26, 27, 28, 29, ...].”\n",
      "Warning message:\n",
      "“Expected 2 pieces. Additional pieces discarded in 1190221 rows [1, 3, 4, 6, 8, 11, 13, 14, 15, 18, 19, 21, 22, 23, 24, 25, 26, 27, 30, 32, ...].”\n",
      "Warning message:\n",
      "“Expected 2 pieces. Additional pieces discarded in 1051216 rows [2, 5, 9, 10, 14, 15, 16, 19, 20, 21, 23, 24, 25, 26, 27, 28, 30, 31, 37, 39, ...].”\n",
      "Warning message:\n",
      "“Expected 2 pieces. Additional pieces discarded in 972889 rows [1, 3, 4, 6, 9, 10, 12, 14, 15, 16, 17, 19, 20, 21, 23, 24, 25, 26, 27, 28, ...].”\n",
      "Warning message:\n",
      "“Expected 2 pieces. Additional pieces discarded in 1595160 rows [2, 3, 7, 8, 9, 10, 12, 13, 17, 18, 20, 21, 25, 26, 27, 28, 29, 30, 32, 33, ...].”\n",
      "Warning message:\n",
      "“Expected 2 pieces. Additional pieces discarded in 1170351 rows [1, 2, 5, 6, 7, 9, 10, 11, 13, 15, 16, 20, 21, 22, 24, 25, 26, 27, 28, 29, ...].”\n",
      "Warning message:\n",
      "“Expected 2 pieces. Additional pieces discarded in 1221784 rows [1, 4, 5, 6, 7, 8, 9, 11, 13, 14, 16, 17, 20, 21, 22, 23, 25, 27, 28, 30, ...].”\n",
      "Warning message:\n",
      "“Expected 2 pieces. Additional pieces discarded in 1073984 rows [1, 4, 6, 7, 9, 10, 12, 13, 14, 15, 16, 19, 20, 21, 22, 23, 24, 25, 26, 27, ...].”\n",
      "Warning message:\n",
      "“Expected 2 pieces. Additional pieces discarded in 1150995 rows [1, 4, 5, 6, 7, 9, 10, 12, 13, 14, 15, 18, 19, 21, 22, 23, 24, 25, 26, 27, ...].”\n",
      "Warning message:\n",
      "“Expected 2 pieces. Additional pieces discarded in 972139 rows [1, 9, 10, 11, 14, 15, 17, 18, 19, 20, 21, 22, 23, 25, 32, 35, 40, 41, 43, 48, ...].”\n",
      "Warning message:\n",
      "“Expected 2 pieces. Additional pieces discarded in 1463263 rows [2, 3, 6, 7, 9, 11, 15, 17, 18, 19, 20, 24, 25, 26, 27, 30, 31, 33, 34, 35, ...].”\n",
      "Warning message:\n",
      "“Expected 2 pieces. Additional pieces discarded in 1461816 rows [3, 4, 7, 9, 11, 16, 17, 19, 20, 25, 27, 28, 30, 31, 32, 34, 35, 36, 37, 38, ...].”\n",
      "Warning message:\n",
      "“Expected 2 pieces. Additional pieces discarded in 925777 rows [1, 4, 6, 8, 9, 11, 12, 13, 14, 16, 17, 18, 19, 20, 21, 24, 26, 30, 31, 32, ...].”\n",
      "Warning message:\n",
      "“Expected 2 pieces. Additional pieces discarded in 1389966 rows [1, 2, 6, 8, 10, 12, 13, 15, 18, 19, 20, 21, 23, 24, 26, 27, 28, 29, 30, 31, ...].”\n"
     ]
    }
   ],
   "source": [
    "library(data.table)\n",
    "\n",
    "# initialize empty data frame\n",
    "matrix <- data.frame()\n",
    "\n",
    "\n",
    "for (tissue in tissues) {\n",
    "\n",
    "    # load dataframe with cage tags (all data)\n",
    "    df_all <- read.table(paste('/project/pauline_association_plots_data/experiments_single_data_2/tsv_all_data/complete/', tissue,'_all_data.tsv', sep=''),\n",
    "                         header=TRUE, sep=\"\\t\")\n",
    "    # load fimo file\n",
    "    df_fimo <- read.table(paste('/project/pauline_association_plots_data/experiments_single_data_2/fimo/pv-thres/0_collapsed/', tissue, \n",
    "                          '_collapsed.tsv', sep=''), header=TRUE, sep='\\t')\n",
    "    \n",
    "    # Convert df_fimo to a data.table\n",
    "    setDT(df_fimo)\n",
    "    \n",
    "    # make new df with unique combinations for TF and coordinates\n",
    "    new_fimo <- distinct(df_fimo, motif_id, sequence_name)\n",
    "    new_fimo <- as.data.frame(new_fimo[, motif_id := str_extract(motif_id, \"(?<=_)[^_]+(?=_)\")])\n",
    "    \n",
    "\n",
    "    # Split the \"sequence_name\" column into separate columns\n",
    "    new_fimo <- new_fimo %>%\n",
    "      separate(sequence_name, into = c(\"chr\", \"start_end\"), sep = \":\", remove = FALSE) %>%\n",
    "      separate(start_end, into = c(\"start\", \"end\"), sep = \"-\") %>%\n",
    "      mutate(end = sub(\"\\\\(.*\", \"\", end))\n",
    "\n",
    "    head(new_fimo)\n",
    "    head(df_all)\n",
    "    \n",
    "    # Merge fimo and all_data based on matching values in \"chr\", \"start\", and \"end\" columns\n",
    "    merged_df <- merge(new_fimo, df_all[, c(\"chr\", \"start\", \"end\", \"nr_ctss\")], \n",
    "                       by = c(\"chr\", \"start\", \"end\"), all.x = TRUE)\n",
    "\n",
    "    # delete duplicates\n",
    "    merged_df <- merged_df[!duplicated(merged_df), ]\n",
    "\n",
    "    # Calculate the sum of \"nr_ctss\" values per TF\n",
    "    sum_df <- aggregate(nr_ctss ~ motif_id, data = merged_df, FUN = sum)\n",
    "    \n",
    "    # new_colname <- tissue\n",
    "    colnames(sum_df)[2] <- tissue\n",
    "    \n",
    "    # assign tissues as rownames\n",
    "    rownames(sum_df) <- sum_df[,1]\n",
    "    sum_df[,1] <- NULL\n",
    "\n",
    "    matrix <- bind_rows(matrix, data.frame(t(sum_df)))\n",
    "    }\n",
    "\n",
    "matrix[is.na(matrix)] <- 0\n",
    "#write.table(matrix, \"/project/pauline_association_plots/code/01_promoter-celltype_matrix/experiments_single/results/matrix_tf_ctss.tsv\", \n",
    "            #sep=\"\\t\", row.names=TRUE, col.names=TRUE)\n",
    "\n",
    "head(matrix, 30)\n",
    "nrow(matrix)"
   ]
  },
  {
   "cell_type": "code",
   "execution_count": 85,
   "id": "32cce047-f6b6-4a74-af5f-19877d256d6b",
   "metadata": {
    "collapsed": true,
    "jupyter": {
     "outputs_hidden": true
    }
   },
   "outputs": [
    {
     "data": {
      "text/html": [
       "<table class=\"dataframe\">\n",
       "<caption>A data.frame: 6 × 1588</caption>\n",
       "<thead>\n",
       "\t<tr><th></th><th scope=col>ABL1</th><th scope=col>ACAAT</th><th scope=col>ACE2</th><th scope=col>AEBP2</th><th scope=col>AFP1</th><th scope=col>AHDC1</th><th scope=col>AHR</th><th scope=col>AIOLOS</th><th scope=col>AIRE</th><th scope=col>ALF</th><th scope=col>⋯</th><th scope=col>ZSCAN2</th><th scope=col>ZSCAN30</th><th scope=col>ZSCAN4</th><th scope=col>ZSCAN5</th><th scope=col>ZSCAN5B</th><th scope=col>ZSCAN5C</th><th scope=col>ZTA</th><th scope=col>ZXDA</th><th scope=col>ZXDB</th><th scope=col>ZXDL</th></tr>\n",
       "\t<tr><th></th><th scope=col>&lt;int&gt;</th><th scope=col>&lt;int&gt;</th><th scope=col>&lt;int&gt;</th><th scope=col>&lt;int&gt;</th><th scope=col>&lt;int&gt;</th><th scope=col>&lt;int&gt;</th><th scope=col>&lt;int&gt;</th><th scope=col>&lt;int&gt;</th><th scope=col>&lt;int&gt;</th><th scope=col>&lt;int&gt;</th><th scope=col>⋯</th><th scope=col>&lt;int&gt;</th><th scope=col>&lt;int&gt;</th><th scope=col>&lt;int&gt;</th><th scope=col>&lt;int&gt;</th><th scope=col>&lt;int&gt;</th><th scope=col>&lt;int&gt;</th><th scope=col>&lt;int&gt;</th><th scope=col>&lt;int&gt;</th><th scope=col>&lt;int&gt;</th><th scope=col>&lt;int&gt;</th></tr>\n",
       "</thead>\n",
       "<tbody>\n",
       "\t<tr><th scope=row>adipose_1</th><td>1290</td><td>3564</td><td>4687</td><td>3907</td><td>237</td><td>684</td><td>14319</td><td>16459</td><td>381</td><td>2093</td><td>⋯</td><td>1418</td><td>26641</td><td>2569</td><td>5298</td><td> 940</td><td>1000</td><td>1315</td><td>3931</td><td>1739</td><td>30054</td></tr>\n",
       "\t<tr><th scope=row>adipose_2</th><td> 563</td><td>1561</td><td>2146</td><td>1679</td><td>112</td><td>315</td><td> 6413</td><td> 7735</td><td>165</td><td> 906</td><td>⋯</td><td> 583</td><td>12329</td><td>1125</td><td>2418</td><td> 427</td><td> 473</td><td> 577</td><td>1793</td><td> 833</td><td>14917</td></tr>\n",
       "\t<tr><th scope=row>adipose_3</th><td> 534</td><td>1519</td><td>2155</td><td>1635</td><td>118</td><td>292</td><td> 6251</td><td> 7481</td><td>164</td><td> 863</td><td>⋯</td><td> 651</td><td>12135</td><td>1192</td><td>2398</td><td> 438</td><td> 448</td><td> 632</td><td>1836</td><td> 842</td><td>14503</td></tr>\n",
       "\t<tr><th scope=row>adipose_4</th><td> 344</td><td>1138</td><td>1586</td><td>1316</td><td> 89</td><td>251</td><td> 4580</td><td> 5624</td><td>122</td><td> 682</td><td>⋯</td><td> 467</td><td> 8851</td><td> 886</td><td>1675</td><td> 343</td><td> 353</td><td> 386</td><td>1283</td><td> 585</td><td>10710</td></tr>\n",
       "\t<tr><th scope=row>adrenal_gland_1</th><td>1586</td><td>4579</td><td>5122</td><td>4713</td><td>275</td><td>625</td><td>17265</td><td>19338</td><td>314</td><td>2457</td><td>⋯</td><td>1854</td><td>30753</td><td>2852</td><td>6064</td><td>1144</td><td>1224</td><td>1091</td><td>4510</td><td>1928</td><td>35636</td></tr>\n",
       "\t<tr><th scope=row>adrenal_gland_2</th><td> 731</td><td>2112</td><td>2390</td><td>2161</td><td>154</td><td>346</td><td> 7958</td><td> 8786</td><td>223</td><td>1170</td><td>⋯</td><td> 851</td><td>14512</td><td>1433</td><td>2732</td><td> 534</td><td> 610</td><td> 553</td><td>2144</td><td> 883</td><td>18251</td></tr>\n",
       "</tbody>\n",
       "</table>\n"
      ],
      "text/latex": [
       "A data.frame: 6 × 1588\n",
       "\\begin{tabular}{r|lllllllllllllllllllll}\n",
       "  & ABL1 & ACAAT & ACE2 & AEBP2 & AFP1 & AHDC1 & AHR & AIOLOS & AIRE & ALF & ⋯ & ZSCAN2 & ZSCAN30 & ZSCAN4 & ZSCAN5 & ZSCAN5B & ZSCAN5C & ZTA & ZXDA & ZXDB & ZXDL\\\\\n",
       "  & <int> & <int> & <int> & <int> & <int> & <int> & <int> & <int> & <int> & <int> & ⋯ & <int> & <int> & <int> & <int> & <int> & <int> & <int> & <int> & <int> & <int>\\\\\n",
       "\\hline\n",
       "\tadipose\\_1 & 1290 & 3564 & 4687 & 3907 & 237 & 684 & 14319 & 16459 & 381 & 2093 & ⋯ & 1418 & 26641 & 2569 & 5298 &  940 & 1000 & 1315 & 3931 & 1739 & 30054\\\\\n",
       "\tadipose\\_2 &  563 & 1561 & 2146 & 1679 & 112 & 315 &  6413 &  7735 & 165 &  906 & ⋯ &  583 & 12329 & 1125 & 2418 &  427 &  473 &  577 & 1793 &  833 & 14917\\\\\n",
       "\tadipose\\_3 &  534 & 1519 & 2155 & 1635 & 118 & 292 &  6251 &  7481 & 164 &  863 & ⋯ &  651 & 12135 & 1192 & 2398 &  438 &  448 &  632 & 1836 &  842 & 14503\\\\\n",
       "\tadipose\\_4 &  344 & 1138 & 1586 & 1316 &  89 & 251 &  4580 &  5624 & 122 &  682 & ⋯ &  467 &  8851 &  886 & 1675 &  343 &  353 &  386 & 1283 &  585 & 10710\\\\\n",
       "\tadrenal\\_gland\\_1 & 1586 & 4579 & 5122 & 4713 & 275 & 625 & 17265 & 19338 & 314 & 2457 & ⋯ & 1854 & 30753 & 2852 & 6064 & 1144 & 1224 & 1091 & 4510 & 1928 & 35636\\\\\n",
       "\tadrenal\\_gland\\_2 &  731 & 2112 & 2390 & 2161 & 154 & 346 &  7958 &  8786 & 223 & 1170 & ⋯ &  851 & 14512 & 1433 & 2732 &  534 &  610 &  553 & 2144 &  883 & 18251\\\\\n",
       "\\end{tabular}\n"
      ],
      "text/markdown": [
       "\n",
       "A data.frame: 6 × 1588\n",
       "\n",
       "| <!--/--> | ABL1 &lt;int&gt; | ACAAT &lt;int&gt; | ACE2 &lt;int&gt; | AEBP2 &lt;int&gt; | AFP1 &lt;int&gt; | AHDC1 &lt;int&gt; | AHR &lt;int&gt; | AIOLOS &lt;int&gt; | AIRE &lt;int&gt; | ALF &lt;int&gt; | ⋯ ⋯ | ZSCAN2 &lt;int&gt; | ZSCAN30 &lt;int&gt; | ZSCAN4 &lt;int&gt; | ZSCAN5 &lt;int&gt; | ZSCAN5B &lt;int&gt; | ZSCAN5C &lt;int&gt; | ZTA &lt;int&gt; | ZXDA &lt;int&gt; | ZXDB &lt;int&gt; | ZXDL &lt;int&gt; |\n",
       "|---|---|---|---|---|---|---|---|---|---|---|---|---|---|---|---|---|---|---|---|---|---|\n",
       "| adipose_1 | 1290 | 3564 | 4687 | 3907 | 237 | 684 | 14319 | 16459 | 381 | 2093 | ⋯ | 1418 | 26641 | 2569 | 5298 |  940 | 1000 | 1315 | 3931 | 1739 | 30054 |\n",
       "| adipose_2 |  563 | 1561 | 2146 | 1679 | 112 | 315 |  6413 |  7735 | 165 |  906 | ⋯ |  583 | 12329 | 1125 | 2418 |  427 |  473 |  577 | 1793 |  833 | 14917 |\n",
       "| adipose_3 |  534 | 1519 | 2155 | 1635 | 118 | 292 |  6251 |  7481 | 164 |  863 | ⋯ |  651 | 12135 | 1192 | 2398 |  438 |  448 |  632 | 1836 |  842 | 14503 |\n",
       "| adipose_4 |  344 | 1138 | 1586 | 1316 |  89 | 251 |  4580 |  5624 | 122 |  682 | ⋯ |  467 |  8851 |  886 | 1675 |  343 |  353 |  386 | 1283 |  585 | 10710 |\n",
       "| adrenal_gland_1 | 1586 | 4579 | 5122 | 4713 | 275 | 625 | 17265 | 19338 | 314 | 2457 | ⋯ | 1854 | 30753 | 2852 | 6064 | 1144 | 1224 | 1091 | 4510 | 1928 | 35636 |\n",
       "| adrenal_gland_2 |  731 | 2112 | 2390 | 2161 | 154 | 346 |  7958 |  8786 | 223 | 1170 | ⋯ |  851 | 14512 | 1433 | 2732 |  534 |  610 |  553 | 2144 |  883 | 18251 |\n",
       "\n"
      ],
      "text/plain": [
       "                ABL1 ACAAT ACE2 AEBP2 AFP1 AHDC1 AHR   AIOLOS AIRE ALF  ⋯\n",
       "adipose_1       1290 3564  4687 3907  237  684   14319 16459  381  2093 ⋯\n",
       "adipose_2        563 1561  2146 1679  112  315    6413  7735  165   906 ⋯\n",
       "adipose_3        534 1519  2155 1635  118  292    6251  7481  164   863 ⋯\n",
       "adipose_4        344 1138  1586 1316   89  251    4580  5624  122   682 ⋯\n",
       "adrenal_gland_1 1586 4579  5122 4713  275  625   17265 19338  314  2457 ⋯\n",
       "adrenal_gland_2  731 2112  2390 2161  154  346    7958  8786  223  1170 ⋯\n",
       "                ZSCAN2 ZSCAN30 ZSCAN4 ZSCAN5 ZSCAN5B ZSCAN5C ZTA  ZXDA ZXDB\n",
       "adipose_1       1418   26641   2569   5298    940    1000    1315 3931 1739\n",
       "adipose_2        583   12329   1125   2418    427     473     577 1793  833\n",
       "adipose_3        651   12135   1192   2398    438     448     632 1836  842\n",
       "adipose_4        467    8851    886   1675    343     353     386 1283  585\n",
       "adrenal_gland_1 1854   30753   2852   6064   1144    1224    1091 4510 1928\n",
       "adrenal_gland_2  851   14512   1433   2732    534     610     553 2144  883\n",
       "                ZXDL \n",
       "adipose_1       30054\n",
       "adipose_2       14917\n",
       "adipose_3       14503\n",
       "adipose_4       10710\n",
       "adrenal_gland_1 35636\n",
       "adrenal_gland_2 18251"
      ]
     },
     "metadata": {},
     "output_type": "display_data"
    }
   ],
   "source": [
    "head(matrix)"
   ]
  },
  {
   "cell_type": "code",
   "execution_count": null,
   "id": "3c4f0e0a-6160-40e9-a609-b8a448e4d159",
   "metadata": {},
   "outputs": [],
   "source": []
  }
 ],
 "metadata": {
  "kernelspec": {
   "display_name": "R421",
   "language": "R",
   "name": "r4.2.1"
  },
  "language_info": {
   "codemirror_mode": "r",
   "file_extension": ".r",
   "mimetype": "text/x-r-source",
   "name": "R",
   "pygments_lexer": "r",
   "version": "4.2.1"
  }
 },
 "nbformat": 4,
 "nbformat_minor": 5
}
